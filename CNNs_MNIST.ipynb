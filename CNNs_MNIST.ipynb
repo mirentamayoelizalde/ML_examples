{
  "nbformat": 4,
  "nbformat_minor": 0,
  "metadata": {
    "colab": {
      "name": "CNNs MNIST",
      "provenance": [],
      "collapsed_sections": []
    },
    "kernelspec": {
      "name": "python3",
      "display_name": "Python 3"
    },
    "accelerator": "GPU"
  },
  "cells": [
    {
      "cell_type": "markdown",
      "metadata": {
        "id": "TYtwAav8vtqg"
      },
      "source": [
        "# Convolutional Neural Network\n",
        "\n",
        "## CNNs for hand-written digit (MNIST) classification\n",
        "\n",
        "**CNNs, by preserving the locality of the pixels, find much better features in the images to predict from than NNs.**"
      ]
    },
    {
      "cell_type": "markdown",
      "metadata": {
        "id": "mna10cRBwpBS"
      },
      "source": [
        "Start GPU. Should say \"Found GPU ...\""
      ]
    },
    {
      "cell_type": "code",
      "metadata": {
        "id": "MfTo4Ir6viY6",
        "colab": {
          "base_uri": "https://localhost:8080/"
        },
        "outputId": "333ac057-0fdd-4781-b0ac-c337ae8eedcc"
      },
      "source": [
        "import tensorflow as tf  \n",
        "                      \n",
        "device_name = tf.test.gpu_device_name()\n",
        "if device_name != '/device:GPU:0':\n",
        "  raise SystemError('GPU device not found')\n",
        "print('Found GPU at: {}'.format(device_name))"
      ],
      "execution_count": 1,
      "outputs": [
        {
          "output_type": "stream",
          "text": [
            "Found GPU at: /device:GPU:0\n"
          ],
          "name": "stdout"
        }
      ]
    },
    {
      "cell_type": "code",
      "metadata": {
        "id": "Sjfthmqnw6Hn"
      },
      "source": [
        "import numpy as np  \n",
        "np.random.seed(123)  \n",
        "import tensorflow as tf  \n",
        "\n",
        "from keras.models import Sequential, load_model, clone_model\n",
        "from keras.layers import Dense, Dropout, Activation, Flatten \n",
        "from keras.layers import Conv2D, MaxPooling2D  \n",
        "from keras.utils import np_utils\n",
        "from keras.callbacks import ModelCheckpoint \n",
        "from keras.datasets import mnist\n",
        "\n",
        "from matplotlib import pyplot as plt"
      ],
      "execution_count": 2,
      "outputs": []
    },
    {
      "cell_type": "code",
      "metadata": {
        "id": "a82xulemvY5c",
        "colab": {
          "base_uri": "https://localhost:8080/"
        },
        "outputId": "f6cec8a8-7a11-4bb7-e6f5-292dd7060e81"
      },
      "source": [
        "# Load pre-shuffled MNIST data into train and test sets\n",
        "(X_train, y_train), (X_test, y_test) = mnist.load_data()\n",
        "\n",
        "print(X_train.shape) \n",
        "print(y_train.shape) \n",
        "print(X_test.shape)  \n",
        "print(y_test.shape)"
      ],
      "execution_count": 3,
      "outputs": [
        {
          "output_type": "stream",
          "text": [
            "Downloading data from https://storage.googleapis.com/tensorflow/tf-keras-datasets/mnist.npz\n",
            "11493376/11490434 [==============================] - 0s 0us/step\n",
            "(60000, 28, 28)\n",
            "(60000,)\n",
            "(10000, 28, 28)\n",
            "(10000,)\n"
          ],
          "name": "stdout"
        }
      ]
    },
    {
      "cell_type": "markdown",
      "metadata": {
        "id": "3slRt7HCoi3x"
      },
      "source": [
        "### Data pre-processing"
      ]
    },
    {
      "cell_type": "code",
      "metadata": {
        "id": "Ga1cNehewIpH"
      },
      "source": [
        "# reshape for single grey channel\n",
        "X_train = X_train.reshape(X_train.shape[0], 28, 28, 1) \n",
        "input_shape = (28, 28, 1) \n",
        "\n",
        "X_test = X_test.reshape(X_test.shape[0], 28, 28, 1)"
      ],
      "execution_count": 4,
      "outputs": []
    },
    {
      "cell_type": "code",
      "metadata": {
        "id": "2_Ho_qT_wKu3"
      },
      "source": [
        "# normalise from 0 to 1\n",
        "X_train = X_train.astype('float32')\n",
        "X_train /= 255 \n",
        "\n",
        "X_test = X_test.astype('float32')\n",
        "X_test /= 255"
      ],
      "execution_count": 5,
      "outputs": []
    },
    {
      "cell_type": "code",
      "metadata": {
        "id": "TJhy0NIOwZdh",
        "colab": {
          "base_uri": "https://localhost:8080/"
        },
        "outputId": "73d3702e-d99b-48d2-b89a-9d7988af3aae"
      },
      "source": [
        "# Convert 1-dimensional class arrays to 10-dimensional class matrices\n",
        "print(y_train.shape)\n",
        "Y_train = np_utils.to_categorical(y_train, 10)\n",
        "print(Y_train.shape)\n",
        "\n",
        "Y_test = np_utils.to_categorical(y_test, 10)"
      ],
      "execution_count": 6,
      "outputs": [
        {
          "output_type": "stream",
          "text": [
            "(60000,)\n",
            "(60000, 10)\n"
          ],
          "name": "stdout"
        }
      ]
    },
    {
      "cell_type": "markdown",
      "metadata": {
        "id": "APQvXnI8wvDo"
      },
      "source": [
        "### Define the CNN model\n"
      ]
    },
    {
      "cell_type": "code",
      "metadata": {
        "id": "1WaRmiJawoXq",
        "colab": {
          "base_uri": "https://localhost:8080/"
        },
        "outputId": "c70d86e7-7f38-4157-b831-7e6e20b40df3"
      },
      "source": [
        "model = Sequential()\n",
        "\n",
        "model.add(Conv2D(32, (3, 3), activation='relu', input_shape=(28, 28, 1))) # 32 filters of size 3x3, then ReLu the output\n",
        "print(model.output_shape)\n",
        "\n",
        "model.add(Conv2D(32, (3, 3), activation='relu')) \n",
        "print(model.output_shape)\n",
        "\n",
        "model.add(MaxPooling2D(pool_size=(2,2))) # Down-sample in boxes of size 2x2 with no-overlap. Allows for some translation invariance in the image.\n",
        "print(model.output_shape)\n",
        "\n",
        "model.add(Flatten()) # Convert to one long vector that represents the image in terms of the learned features\n",
        "print(model.output_shape)\n",
        "\n",
        "model.add(Dense(128, activation='relu')) # The thinking (fully-connected) layer. Learn the interactions between the extracted features and the desired output\n",
        "print(model.output_shape)\n",
        "\n",
        "model.add(Dense(10, activation='softmax')) # The dense layer with softmax activation to output 10 probabilities - one for each digit\n",
        "print(model.output_shape)\n",
        "\n",
        "model.compile(loss='categorical_crossentropy', optimizer='adam', metrics=['accuracy'])\n",
        "\n",
        "print(model.summary()) "
      ],
      "execution_count": 7,
      "outputs": [
        {
          "output_type": "stream",
          "text": [
            "(None, 26, 26, 32)\n",
            "(None, 24, 24, 32)\n",
            "(None, 12, 12, 32)\n",
            "(None, 4608)\n",
            "(None, 128)\n",
            "(None, 10)\n",
            "Model: \"sequential\"\n",
            "_________________________________________________________________\n",
            "Layer (type)                 Output Shape              Param #   \n",
            "=================================================================\n",
            "conv2d (Conv2D)              (None, 26, 26, 32)        320       \n",
            "_________________________________________________________________\n",
            "conv2d_1 (Conv2D)            (None, 24, 24, 32)        9248      \n",
            "_________________________________________________________________\n",
            "max_pooling2d (MaxPooling2D) (None, 12, 12, 32)        0         \n",
            "_________________________________________________________________\n",
            "flatten (Flatten)            (None, 4608)              0         \n",
            "_________________________________________________________________\n",
            "dense (Dense)                (None, 128)               589952    \n",
            "_________________________________________________________________\n",
            "dense_1 (Dense)              (None, 10)                1290      \n",
            "=================================================================\n",
            "Total params: 600,810\n",
            "Trainable params: 600,810\n",
            "Non-trainable params: 0\n",
            "_________________________________________________________________\n",
            "None\n"
          ],
          "name": "stdout"
        }
      ]
    },
    {
      "cell_type": "markdown",
      "metadata": {
        "id": "lnlk6pHhy7QQ"
      },
      "source": [
        "### Train the CNN model\n",
        "10 epochs and a batch size of 32"
      ]
    },
    {
      "cell_type": "code",
      "metadata": {
        "id": "vzlY03BvzDfZ",
        "colab": {
          "base_uri": "https://localhost:8080/"
        },
        "outputId": "529703f4-aac3-4cd8-94f0-83813943d2dc"
      },
      "source": [
        "checkpointer = ModelCheckpoint('CNN-{epoch:02d}.hdf5', verbose = 1) # Temporarily save the model to our drive after each epoch, with the epoch number \n",
        "model.fit(X_train, Y_train, batch_size=32, epochs=10, verbose=1, callbacks=[checkpointer]) # Verbose = 1 shows the progress of the model training"
      ],
      "execution_count": 8,
      "outputs": [
        {
          "output_type": "stream",
          "text": [
            "Epoch 1/10\n",
            "1875/1875 [==============================] - 11s 3ms/step - loss: 0.2596 - accuracy: 0.9219\n",
            "\n",
            "Epoch 00001: saving model to CNN-01.hdf5\n",
            "Epoch 2/10\n",
            "1875/1875 [==============================] - 5s 3ms/step - loss: 0.0389 - accuracy: 0.9883\n",
            "\n",
            "Epoch 00002: saving model to CNN-02.hdf5\n",
            "Epoch 3/10\n",
            "1875/1875 [==============================] - 5s 3ms/step - loss: 0.0230 - accuracy: 0.9931\n",
            "\n",
            "Epoch 00003: saving model to CNN-03.hdf5\n",
            "Epoch 4/10\n",
            "1875/1875 [==============================] - 5s 2ms/step - loss: 0.0155 - accuracy: 0.9954\n",
            "\n",
            "Epoch 00004: saving model to CNN-04.hdf5\n",
            "Epoch 5/10\n",
            "1875/1875 [==============================] - 5s 2ms/step - loss: 0.0117 - accuracy: 0.9958\n",
            "\n",
            "Epoch 00005: saving model to CNN-05.hdf5\n",
            "Epoch 6/10\n",
            "1875/1875 [==============================] - 5s 3ms/step - loss: 0.0077 - accuracy: 0.9974\n",
            "\n",
            "Epoch 00006: saving model to CNN-06.hdf5\n",
            "Epoch 7/10\n",
            "1875/1875 [==============================] - 5s 3ms/step - loss: 0.0060 - accuracy: 0.9980\n",
            "\n",
            "Epoch 00007: saving model to CNN-07.hdf5\n",
            "Epoch 8/10\n",
            "1875/1875 [==============================] - 5s 2ms/step - loss: 0.0046 - accuracy: 0.9985\n",
            "\n",
            "Epoch 00008: saving model to CNN-08.hdf5\n",
            "Epoch 9/10\n",
            "1875/1875 [==============================] - 5s 2ms/step - loss: 0.0052 - accuracy: 0.9983\n",
            "\n",
            "Epoch 00009: saving model to CNN-09.hdf5\n",
            "Epoch 10/10\n",
            "1875/1875 [==============================] - 5s 2ms/step - loss: 0.0036 - accuracy: 0.9987\n",
            "\n",
            "Epoch 00010: saving model to CNN-10.hdf5\n"
          ],
          "name": "stdout"
        },
        {
          "output_type": "execute_result",
          "data": {
            "text/plain": [
              "<tensorflow.python.keras.callbacks.History at 0x7f3a109e69e8>"
            ]
          },
          "metadata": {
            "tags": []
          },
          "execution_count": 8
        }
      ]
    },
    {
      "cell_type": "markdown",
      "metadata": {
        "id": "ITBa5XUdzJC3"
      },
      "source": [
        "### Test the CNN model"
      ]
    },
    {
      "cell_type": "code",
      "metadata": {
        "id": "qJH3wUitzHfu",
        "colab": {
          "base_uri": "https://localhost:8080/"
        },
        "outputId": "f1c9d329-50b8-4d93-e64e-b5399a94d981"
      },
      "source": [
        "model_score = model.evaluate(X_test, Y_test, verbose = 1)\n",
        "print('Test loss: ', model_score[0])\n",
        "print('Test accuracy: ', model_score[1])"
      ],
      "execution_count": 9,
      "outputs": [
        {
          "output_type": "stream",
          "text": [
            "313/313 [==============================] - 1s 2ms/step - loss: 0.0494 - accuracy: 0.9905\n",
            "Test loss:  0.04937336966395378\n",
            "Test accuracy:  0.9904999732971191\n"
          ],
          "name": "stdout"
        }
      ]
    },
    {
      "cell_type": "markdown",
      "metadata": {
        "id": "CIMAGFFIrIcU"
      },
      "source": [
        "CNN model: 99% accuracy"
      ]
    },
    {
      "cell_type": "markdown",
      "metadata": {
        "id": "w82G7ZYNrWZD"
      },
      "source": [
        "### Redefine model (model2). More filters and dropout layers added. Optimiser changed"
      ]
    },
    {
      "cell_type": "code",
      "metadata": {
        "id": "29JOdW8jzjn0",
        "colab": {
          "base_uri": "https://localhost:8080/"
        },
        "outputId": "5d0ed011-cd85-430a-e7d2-c61af53d53eb"
      },
      "source": [
        "model2 = Sequential() \n",
        "\n",
        "model2.add(Conv2D(32, kernel_size=(3, 3),\n",
        "                 activation='relu',\n",
        "                 input_shape=(28, 28, 1)))\n",
        "\n",
        "model2.add(Conv2D(64, (3, 3), activation='relu'))\n",
        "\n",
        "model2.add(MaxPooling2D(pool_size=(2, 2)))\n",
        "\n",
        "model2.add(Dropout(0.25)) # reduce overfitting in the model, should help performance\n",
        "\n",
        "model2.add(Flatten())\n",
        "\n",
        "model2.add(Dense(128, activation='relu'))\n",
        "\n",
        "model2.add(Dropout(0.5))\n",
        "\n",
        "model2.add(Dense(10, activation='softmax'))\n",
        "\n",
        "model2.compile(loss='categorical_crossentropy',\n",
        "              optimizer='adadelta', # instead of 'adam'\n",
        "              metrics=['accuracy'])\n",
        "\n",
        "print(model2.summary())"
      ],
      "execution_count": 10,
      "outputs": [
        {
          "output_type": "stream",
          "text": [
            "Model: \"sequential_1\"\n",
            "_________________________________________________________________\n",
            "Layer (type)                 Output Shape              Param #   \n",
            "=================================================================\n",
            "conv2d_2 (Conv2D)            (None, 26, 26, 32)        320       \n",
            "_________________________________________________________________\n",
            "conv2d_3 (Conv2D)            (None, 24, 24, 64)        18496     \n",
            "_________________________________________________________________\n",
            "max_pooling2d_1 (MaxPooling2 (None, 12, 12, 64)        0         \n",
            "_________________________________________________________________\n",
            "dropout (Dropout)            (None, 12, 12, 64)        0         \n",
            "_________________________________________________________________\n",
            "flatten_1 (Flatten)          (None, 9216)              0         \n",
            "_________________________________________________________________\n",
            "dense_2 (Dense)              (None, 128)               1179776   \n",
            "_________________________________________________________________\n",
            "dropout_1 (Dropout)          (None, 128)               0         \n",
            "_________________________________________________________________\n",
            "dense_3 (Dense)              (None, 10)                1290      \n",
            "=================================================================\n",
            "Total params: 1,199,882\n",
            "Trainable params: 1,199,882\n",
            "Non-trainable params: 0\n",
            "_________________________________________________________________\n",
            "None\n"
          ],
          "name": "stdout"
        }
      ]
    },
    {
      "cell_type": "markdown",
      "metadata": {
        "id": "bV6aiDdj0smK"
      },
      "source": [
        "### Train CNN model2\n",
        "*12 epochs and a batch size of 128*"
      ]
    },
    {
      "cell_type": "code",
      "metadata": {
        "id": "W1M5w-Kd0oG7",
        "colab": {
          "base_uri": "https://localhost:8080/"
        },
        "outputId": "d991a900-9c0d-4e54-bd85-ace4d833638b"
      },
      "source": [
        "model2.fit(X_train, Y_train, batch_size=128, epochs=12, verbose=1)"
      ],
      "execution_count": 11,
      "outputs": [
        {
          "output_type": "stream",
          "text": [
            "Epoch 1/12\n",
            "469/469 [==============================] - 3s 5ms/step - loss: 2.2883 - accuracy: 0.1338\n",
            "Epoch 2/12\n",
            "469/469 [==============================] - 2s 5ms/step - loss: 2.2429 - accuracy: 0.2555\n",
            "Epoch 3/12\n",
            "469/469 [==============================] - 2s 5ms/step - loss: 2.1794 - accuracy: 0.3717\n",
            "Epoch 4/12\n",
            "469/469 [==============================] - 2s 5ms/step - loss: 2.0939 - accuracy: 0.4470\n",
            "Epoch 5/12\n",
            "469/469 [==============================] - 2s 5ms/step - loss: 1.9812 - accuracy: 0.5051\n",
            "Epoch 6/12\n",
            "469/469 [==============================] - 2s 5ms/step - loss: 1.8431 - accuracy: 0.5437\n",
            "Epoch 7/12\n",
            "469/469 [==============================] - 2s 5ms/step - loss: 1.6803 - accuracy: 0.5826\n",
            "Epoch 8/12\n",
            "469/469 [==============================] - 2s 5ms/step - loss: 1.5177 - accuracy: 0.6119\n",
            "Epoch 9/12\n",
            "469/469 [==============================] - 2s 5ms/step - loss: 1.3641 - accuracy: 0.6399\n",
            "Epoch 10/12\n",
            "469/469 [==============================] - 2s 5ms/step - loss: 1.2255 - accuracy: 0.6687\n",
            "Epoch 11/12\n",
            "469/469 [==============================] - 2s 5ms/step - loss: 1.1253 - accuracy: 0.6814\n",
            "Epoch 12/12\n",
            "469/469 [==============================] - 2s 5ms/step - loss: 1.0400 - accuracy: 0.7006\n"
          ],
          "name": "stdout"
        },
        {
          "output_type": "execute_result",
          "data": {
            "text/plain": [
              "<tensorflow.python.keras.callbacks.History at 0x7f399eca4518>"
            ]
          },
          "metadata": {
            "tags": []
          },
          "execution_count": 11
        }
      ]
    },
    {
      "cell_type": "markdown",
      "metadata": {
        "id": "PKk1B0La1C2A"
      },
      "source": [
        "### Test CNN model2"
      ]
    },
    {
      "cell_type": "code",
      "metadata": {
        "id": "GYmJgXxe1CDq",
        "colab": {
          "base_uri": "https://localhost:8080/"
        },
        "outputId": "87a388ed-56f8-496e-f949-a274ec00a346"
      },
      "source": [
        "model2_score = model2.evaluate(X_test, Y_test, verbose = 1)\n",
        "print('Test loss: ', model2_score[0])\n",
        "print('Test accuracy: ', model2_score[1])"
      ],
      "execution_count": 12,
      "outputs": [
        {
          "output_type": "stream",
          "text": [
            "313/313 [==============================] - 1s 2ms/step - loss: 0.7770 - accuracy: 0.8305\n",
            "Test loss:  0.7769657969474792\n",
            "Test accuracy:  0.8305000066757202\n"
          ],
          "name": "stdout"
        }
      ]
    },
    {
      "cell_type": "markdown",
      "metadata": {
        "id": "Pk6h6BSe1SXb"
      },
      "source": [
        "CNN model2: 83% accuracy"
      ]
    },
    {
      "cell_type": "markdown",
      "metadata": {
        "id": "mbLZ2Z7eC38o"
      },
      "source": [
        "# Classify an uploaded real image\n"
      ]
    },
    {
      "cell_type": "code",
      "metadata": {
        "id": "SSh5Vq3lEp6T"
      },
      "source": [
        "# quick function to load an image, turn it to greyscale and resize it to 28x28\n",
        "\n",
        "from PIL import Image\n",
        "import PIL.ImageOps  # turn the image into a black number\n",
        "\n",
        "def file_to_input(string):\n",
        "  img  = Image.open(string) \n",
        "  width, height = img.size \n",
        "  area = (width/4, height/4, 3*width/4, 3*height/4) \n",
        "  img = img.crop(area) # crops to the middle of the image\n",
        "\n",
        "  img = img.resize((28, 28)) # resize the image to 28x28\n",
        "  img = img.convert('L') # turn to greyscale\n",
        "  img = PIL.ImageOps.invert(img)\n",
        "\n",
        "  pic = np.array(img)\n",
        "  pic = pic/255\n",
        "  # np.place(pic, pic < 0.5, 0) # these could possibly used to sharpen the images...\n",
        "  # np.place(pic, pic > 0.5, 1)\n",
        "\n",
        "  return pic"
      ],
      "execution_count": 16,
      "outputs": []
    },
    {
      "cell_type": "code",
      "metadata": {
        "id": "vIEzK9wpKadA",
        "colab": {
          "base_uri": "https://localhost:8080/",
          "height": 299
        },
        "outputId": "40636248-6199-4ef8-8c3b-27dd4fee687e"
      },
      "source": [
        "img1 = file_to_input('seven.jpg')\n",
        "print(img1.shape)\n",
        "plt.imshow(img1, cmap='Greys')\n",
        "img1_reshape = img1.reshape(1,28,28,1)\n",
        "result = model2.predict(img1_reshape)\n",
        "print(np.argmax(result))"
      ],
      "execution_count": 19,
      "outputs": [
        {
          "output_type": "stream",
          "text": [
            "(28, 28)\n",
            "2\n"
          ],
          "name": "stdout"
        },
        {
          "output_type": "display_data",
          "data": {
            "image/png": "[encoded data removed]",
            "text/plain": [
              "<Figure size 432x288 with 1 Axes>"
            ]
          },
          "metadata": {
            "tags": [],
            "needs_background": "light"
          }
        }
      ]
    },
    {
      "cell_type": "code",
      "metadata": {
        "id": "skcpF_N2NhCa"
      },
      "source": [
        "# Close out all the images we opened\n",
        "#plt.close('all')\n",
        "#Image.close('all')"
      ],
      "execution_count": 15,
      "outputs": []
    }
  ]
}