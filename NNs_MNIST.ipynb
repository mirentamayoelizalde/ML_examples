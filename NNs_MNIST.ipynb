{
  "nbformat": 4,
  "nbformat_minor": 0,
  "metadata": {
    "colab": {
      "name": "NNs_MNIST",
      "provenance": [],
      "collapsed_sections": [],
      "toc_visible": true
    },
    "kernelspec": {
      "name": "python3",
      "display_name": "Python 3"
    },
    "accelerator": "GPU"
  },
  "cells": [
    {
      "cell_type": "markdown",
      "metadata": {
        "id": "TYtwAav8vtqg"
      },
      "source": [
        "# Neural Network\n",
        "\n",
        "## NNs for hand-written digit (MNIST) classification"
      ]
    },
    {
      "cell_type": "markdown",
      "metadata": {
        "id": "mna10cRBwpBS"
      },
      "source": [
        "Start GPU. Should say \"Found GPU ...\""
      ]
    },
    {
      "cell_type": "code",
      "metadata": {
        "id": "MfTo4Ir6viY6",
        "colab": {
          "base_uri": "https://localhost:8080/"
        },
        "outputId": "f4f27185-d360-4c4b-f4f2-67878b3cd995"
      },
      "source": [
        "import tensorflow as tf  \n",
        "                      \n",
        "device_name = tf.test.gpu_device_name()\n",
        "if device_name != '/device:GPU:0':\n",
        "  raise SystemError('GPU device not found')\n",
        "print('Found GPU at: {}'.format(device_name))"
      ],
      "execution_count": 1,
      "outputs": [
        {
          "output_type": "stream",
          "text": [
            "Found GPU at: /device:GPU:0\n"
          ],
          "name": "stdout"
        }
      ]
    },
    {
      "cell_type": "code",
      "metadata": {
        "id": "Sjfthmqnw6Hn"
      },
      "source": [
        "import numpy as np  \n",
        "np.random.seed(123)  \n",
        "import tensorflow as tf  \n",
        "\n",
        "from keras.models import Sequential, load_model, clone_model\n",
        "from keras.layers import Dense, Dropout, Activation, Flatten \n",
        "from keras.layers import Conv2D, MaxPooling2D  \n",
        "from keras.utils import np_utils\n",
        "from keras.callbacks import ModelCheckpoint \n",
        "from keras.datasets import mnist\n",
        "\n",
        "from matplotlib import pyplot as plt"
      ],
      "execution_count": 20,
      "outputs": []
    },
    {
      "cell_type": "code",
      "metadata": {
        "id": "J5oiy02UxQ42",
        "colab": {
          "base_uri": "https://localhost:8080/"
        },
        "outputId": "0022323b-b63e-4e31-cea8-4492ea8912ed"
      },
      "source": [
        "# Load pre-shuffled MNIST data into train and test sets\n",
        "(X_train, y_train), (X_test, y_test) = mnist.load_data()\n",
        "\n",
        "print(X_train.shape) \n",
        "print(y_train.shape) \n",
        "print(X_test.shape) \n",
        "print(y_test.shape)"
      ],
      "execution_count": 9,
      "outputs": [
        {
          "output_type": "stream",
          "text": [
            "(60000, 28, 28)\n",
            "(60000,)\n",
            "(10000, 28, 28)\n",
            "(10000,)\n"
          ],
          "name": "stdout"
        }
      ]
    },
    {
      "cell_type": "code",
      "metadata": {
        "id": "0iCY7SmJxW3m",
        "colab": {
          "base_uri": "https://localhost:8080/",
          "height": 299
        },
        "outputId": "b94a6ada-0ceb-44e7-d44a-bec54657997b"
      },
      "source": [
        "#Visualise training data\n",
        "print(y_train[0]) \n",
        "plt.imshow(X_train[0], cmap = 'Greys') "
      ],
      "execution_count": 4,
      "outputs": [
        {
          "output_type": "stream",
          "text": [
            "5\n"
          ],
          "name": "stdout"
        },
        {
          "output_type": "execute_result",
          "data": {
            "text/plain": [
              "<matplotlib.image.AxesImage at 0x7f448b3ea828>"
            ]
          },
          "metadata": {
            "tags": []
          },
          "execution_count": 4
        },
        {
          "output_type": "display_data",
          "data": {
            "image/png": "[encoded data removed]",
            "text/plain": [
              "<Figure size 432x288 with 1 Axes>"
            ]
          },
          "metadata": {
            "tags": [],
            "needs_background": "light"
          }
        }
      ]
    },
    {
      "cell_type": "markdown",
      "metadata": {
        "id": "fsVnk7iuyLCa"
      },
      "source": [
        "### Data pre-processing"
      ]
    },
    {
      "cell_type": "code",
      "metadata": {
        "id": "bYyQajPKyEXs",
        "colab": {
          "base_uri": "https://localhost:8080/"
        },
        "outputId": "aade0176-7973-4bbe-a51a-1475139a56a6"
      },
      "source": [
        "# The image data isn't quite in the format that the Keras NN will want, so we want to change it:\n",
        "print(X_train.shape)\n",
        "X_train = X_train.reshape(X_train.shape[0], X_train.shape[1]*X_train.shape[2])\n",
        "print(X_train.shape)"
      ],
      "execution_count": 10,
      "outputs": [
        {
          "output_type": "stream",
          "text": [
            "(60000, 28, 28)\n",
            "(60000, 784)\n"
          ],
          "name": "stdout"
        }
      ]
    },
    {
      "cell_type": "code",
      "metadata": {
        "id": "o-l4P_aB1aOa",
        "colab": {
          "base_uri": "https://localhost:8080/"
        },
        "outputId": "a6304140-3453-4a43-fc2d-e6b417ea71a9"
      },
      "source": [
        "X_test = X_test.reshape(X_test.shape[0], X_test.shape[1]*X_test.shape[2])\n",
        "print(X_test.shape)"
      ],
      "execution_count": 11,
      "outputs": [
        {
          "output_type": "stream",
          "text": [
            "(10000, 784)\n"
          ],
          "name": "stdout"
        }
      ]
    },
    {
      "cell_type": "markdown",
      "metadata": {
        "id": "e8myApT31SnO"
      },
      "source": [
        "Normlaise pixel data to the range [0, 1] by dividing each pixel value by the max pixel value possible (255)"
      ]
    },
    {
      "cell_type": "code",
      "metadata": {
        "id": "SImKNuIA1JpL"
      },
      "source": [
        "X_train = X_train.astype('float32')\n",
        "X_train /= 255 "
      ],
      "execution_count": 12,
      "outputs": []
    },
    {
      "cell_type": "code",
      "metadata": {
        "id": "arPFfTew1cYc"
      },
      "source": [
        "X_test = X_test.astype('float32')\n",
        "X_test /= 255"
      ],
      "execution_count": 13,
      "outputs": []
    },
    {
      "cell_type": "code",
      "metadata": {
        "id": "x3zl5A-P1dok",
        "colab": {
          "base_uri": "https://localhost:8080/"
        },
        "outputId": "5f4980c9-4cb4-49cc-fe3b-60f44702006a"
      },
      "source": [
        "# Convert 1-dimensional class arrays to 10-dimensional class matrices\n",
        "print(y_train.shape)\n",
        "Y_train = np_utils.to_categorical(y_train, 10)\n",
        "print(Y_train.shape)"
      ],
      "execution_count": 14,
      "outputs": [
        {
          "output_type": "stream",
          "text": [
            "(60000,)\n",
            "(60000, 10)\n"
          ],
          "name": "stdout"
        }
      ]
    },
    {
      "cell_type": "code",
      "metadata": {
        "id": "EOJYDPHu1puO"
      },
      "source": [
        "Y_test = np_utils.to_categorical(y_test, 10)"
      ],
      "execution_count": 15,
      "outputs": []
    },
    {
      "cell_type": "markdown",
      "metadata": {
        "id": "UZQw5Fax2MrT"
      },
      "source": [
        "### Define the NN model"
      ]
    },
    {
      "cell_type": "code",
      "metadata": {
        "id": "GemQ50D81qXP",
        "colab": {
          "base_uri": "https://localhost:8080/"
        },
        "outputId": "a52fb52c-8df8-47d7-fbe3-e74f67a17c0a"
      },
      "source": [
        "model = Sequential() \n",
        "model.add(Dense(500, input_dim=X_train.shape[1], activation=\"relu\")) # takes the 784 length input vector and crushes it to 500\n",
        "\n",
        "model.add(Dense(300, activation=\"relu\")) \n",
        "model.add(Dense(200, activation=\"relu\"))\n",
        "model.add(Dense(50, activation=\"relu\")) \n",
        "model.add(Dense(10, activation=\"relu\")) \n",
        "model.add(Activation(\"softmax\")) # converts the previous 10 length vector to a set of probabilities that sum to 1\n",
        "\n",
        "model.compile(loss='categorical_crossentropy', optimizer='adam', metrics=['accuracy']) # loss function, optimiser and other metrics\n",
        "\n",
        "print(model.summary()) # high-level overview of the model"
      ],
      "execution_count": 54,
      "outputs": [
        {
          "output_type": "stream",
          "text": [
            "Model: \"sequential_6\"\n",
            "_________________________________________________________________\n",
            "Layer (type)                 Output Shape              Param #   \n",
            "=================================================================\n",
            "dense_30 (Dense)             (None, 500)               392500    \n",
            "_________________________________________________________________\n",
            "dense_31 (Dense)             (None, 300)               150300    \n",
            "_________________________________________________________________\n",
            "dense_32 (Dense)             (None, 200)               60200     \n",
            "_________________________________________________________________\n",
            "dense_33 (Dense)             (None, 50)                10050     \n",
            "_________________________________________________________________\n",
            "dense_34 (Dense)             (None, 10)                510       \n",
            "_________________________________________________________________\n",
            "activation_6 (Activation)    (None, 10)                0         \n",
            "=================================================================\n",
            "Total params: 613,560\n",
            "Trainable params: 613,560\n",
            "Non-trainable params: 0\n",
            "_________________________________________________________________\n",
            "None\n"
          ],
          "name": "stdout"
        }
      ]
    },
    {
      "cell_type": "code",
      "metadata": {
        "colab": {
          "base_uri": "https://localhost:8080/"
        },
        "id": "xUjsrgAbjOax",
        "outputId": "2ef3da4e-91b1-4c72-fe27-b8aaa0dc7f80"
      },
      "source": [
        "model2= clone_model(model)\n",
        "model2.compile(loss='categorical_crossentropy', optimizer='adam', metrics=['accuracy']) \n",
        "print(model2.summary())"
      ],
      "execution_count": 55,
      "outputs": [
        {
          "output_type": "stream",
          "text": [
            "Model: \"sequential_6\"\n",
            "_________________________________________________________________\n",
            "Layer (type)                 Output Shape              Param #   \n",
            "=================================================================\n",
            "dense_30 (Dense)             (None, 500)               392500    \n",
            "_________________________________________________________________\n",
            "dense_31 (Dense)             (None, 300)               150300    \n",
            "_________________________________________________________________\n",
            "dense_32 (Dense)             (None, 200)               60200     \n",
            "_________________________________________________________________\n",
            "dense_33 (Dense)             (None, 50)                10050     \n",
            "_________________________________________________________________\n",
            "dense_34 (Dense)             (None, 10)                510       \n",
            "_________________________________________________________________\n",
            "activation_6 (Activation)    (None, 10)                0         \n",
            "=================================================================\n",
            "Total params: 613,560\n",
            "Trainable params: 613,560\n",
            "Non-trainable params: 0\n",
            "_________________________________________________________________\n",
            "None\n"
          ],
          "name": "stdout"
        }
      ]
    },
    {
      "cell_type": "markdown",
      "metadata": {
        "id": "WANQ4uwV4614"
      },
      "source": [
        "### Train the NN model"
      ]
    },
    {
      "cell_type": "markdown",
      "metadata": {
        "id": "6YE7O2KFev8l"
      },
      "source": [
        "#### Try: batch size of 32 images, 10 epochs"
      ]
    },
    {
      "cell_type": "code",
      "metadata": {
        "id": "wJe-nN815MPd",
        "colab": {
          "base_uri": "https://localhost:8080/"
        },
        "outputId": "87b194a4-0469-446a-dfdc-74d2d6ed52d7"
      },
      "source": [
        "checkpointer = ModelCheckpoint('simple_NN-{epoch:02d}.hdf5', verbose = 1) # temporarily save the model after each epoch, with the epoch number \n",
        "model.fit(X_train, Y_train, batch_size=32, epochs=10, verbose=1, callbacks=[checkpointer]) # Verbose = 1 to show the progress of the model training!"
      ],
      "execution_count": 56,
      "outputs": [
        {
          "output_type": "stream",
          "text": [
            "Epoch 1/10\n",
            "1875/1875 [==============================] - 8s 4ms/step - loss: 1.4128 - accuracy: 0.4486\n",
            "\n",
            "Epoch 00001: saving model to simple_NN-01.hdf5\n",
            "Epoch 2/10\n",
            "1875/1875 [==============================] - 7s 4ms/step - loss: 1.2391 - accuracy: 0.4819\n",
            "\n",
            "Epoch 00002: saving model to simple_NN-02.hdf5\n",
            "Epoch 3/10\n",
            "1875/1875 [==============================] - 7s 4ms/step - loss: 1.2214 - accuracy: 0.4836\n",
            "\n",
            "Epoch 00003: saving model to simple_NN-03.hdf5\n",
            "Epoch 4/10\n",
            "1875/1875 [==============================] - 7s 4ms/step - loss: 1.2045 - accuracy: 0.4885\n",
            "\n",
            "Epoch 00004: saving model to simple_NN-04.hdf5\n",
            "Epoch 5/10\n",
            "1875/1875 [==============================] - 7s 4ms/step - loss: 1.1984 - accuracy: 0.4876\n",
            "\n",
            "Epoch 00005: saving model to simple_NN-05.hdf5\n",
            "Epoch 6/10\n",
            "1875/1875 [==============================] - 7s 4ms/step - loss: 1.2000 - accuracy: 0.4861\n",
            "\n",
            "Epoch 00006: saving model to simple_NN-06.hdf5\n",
            "Epoch 7/10\n",
            "1875/1875 [==============================] - 7s 4ms/step - loss: 1.1930 - accuracy: 0.4880\n",
            "\n",
            "Epoch 00007: saving model to simple_NN-07.hdf5\n",
            "Epoch 8/10\n",
            "1875/1875 [==============================] - 7s 4ms/step - loss: 1.1877 - accuracy: 0.4896\n",
            "\n",
            "Epoch 00008: saving model to simple_NN-08.hdf5\n",
            "Epoch 9/10\n",
            "1875/1875 [==============================] - 7s 4ms/step - loss: 1.1922 - accuracy: 0.4869\n",
            "\n",
            "Epoch 00009: saving model to simple_NN-09.hdf5\n",
            "Epoch 10/10\n",
            "1875/1875 [==============================] - 7s 4ms/step - loss: 1.1919 - accuracy: 0.4877\n",
            "\n",
            "Epoch 00010: saving model to simple_NN-10.hdf5\n"
          ],
          "name": "stdout"
        },
        {
          "output_type": "execute_result",
          "data": {
            "text/plain": [
              "<tensorflow.python.keras.callbacks.History at 0x7f4478616198>"
            ]
          },
          "metadata": {
            "tags": []
          },
          "execution_count": 56
        }
      ]
    },
    {
      "cell_type": "markdown",
      "metadata": {
        "id": "pRqw5ba1fl8S"
      },
      "source": [
        "model2: 49% accuracy in training set"
      ]
    },
    {
      "cell_type": "markdown",
      "metadata": {
        "id": "QlLz8wDCfRFO"
      },
      "source": [
        "#### Try: batch size of 128 images, 12 epochs"
      ]
    },
    {
      "cell_type": "code",
      "metadata": {
        "colab": {
          "base_uri": "https://localhost:8080/"
        },
        "id": "7hSjX_RAeRm5",
        "outputId": "33dd4932-1484-4433-9f51-b4e4c24ca7c2"
      },
      "source": [
        "model2.fit(X_train, Y_train, validation_split= 0.3, batch_size=128, epochs=12, verbose=1)"
      ],
      "execution_count": 57,
      "outputs": [
        {
          "output_type": "stream",
          "text": [
            "Epoch 1/12\n",
            "329/329 [==============================] - 2s 6ms/step - loss: 1.3107 - accuracy: 0.5015 - val_loss: 1.0438 - val_accuracy: 0.5693\n",
            "Epoch 2/12\n",
            "329/329 [==============================] - 2s 5ms/step - loss: 1.0121 - accuracy: 0.5797 - val_loss: 1.0288 - val_accuracy: 0.5724\n",
            "Epoch 3/12\n",
            "329/329 [==============================] - 2s 6ms/step - loss: 0.9994 - accuracy: 0.5781 - val_loss: 1.0189 - val_accuracy: 0.5793\n",
            "Epoch 4/12\n",
            "329/329 [==============================] - 2s 6ms/step - loss: 0.9831 - accuracy: 0.5824 - val_loss: 1.0235 - val_accuracy: 0.5747\n",
            "Epoch 5/12\n",
            "329/329 [==============================] - 2s 6ms/step - loss: 0.9773 - accuracy: 0.5821 - val_loss: 1.0088 - val_accuracy: 0.5773\n",
            "Epoch 6/12\n",
            "329/329 [==============================] - 2s 6ms/step - loss: 0.9580 - accuracy: 0.5885 - val_loss: 1.0145 - val_accuracy: 0.5777\n",
            "Epoch 7/12\n",
            "329/329 [==============================] - 2s 6ms/step - loss: 0.9562 - accuracy: 0.5888 - val_loss: 1.0068 - val_accuracy: 0.5778\n",
            "Epoch 8/12\n",
            "329/329 [==============================] - 2s 6ms/step - loss: 0.9597 - accuracy: 0.5877 - val_loss: 1.0145 - val_accuracy: 0.5788\n",
            "Epoch 9/12\n",
            "329/329 [==============================] - 2s 6ms/step - loss: 0.9580 - accuracy: 0.5867 - val_loss: 1.0551 - val_accuracy: 0.5763\n",
            "Epoch 10/12\n",
            "329/329 [==============================] - 2s 6ms/step - loss: 0.9596 - accuracy: 0.5890 - val_loss: 1.0106 - val_accuracy: 0.5781\n",
            "Epoch 11/12\n",
            "329/329 [==============================] - 2s 6ms/step - loss: 0.9540 - accuracy: 0.5888 - val_loss: 1.0066 - val_accuracy: 0.5816\n",
            "Epoch 12/12\n",
            "329/329 [==============================] - 2s 6ms/step - loss: 0.9632 - accuracy: 0.5842 - val_loss: 1.0117 - val_accuracy: 0.5796\n"
          ],
          "name": "stdout"
        },
        {
          "output_type": "execute_result",
          "data": {
            "text/plain": [
              "<tensorflow.python.keras.callbacks.History at 0x7f44786032b0>"
            ]
          },
          "metadata": {
            "tags": []
          },
          "execution_count": 57
        }
      ]
    },
    {
      "cell_type": "markdown",
      "metadata": {
        "id": "YR94VUmNfsYe"
      },
      "source": [
        "model2: 58% accuracy in training set"
      ]
    },
    {
      "cell_type": "markdown",
      "metadata": {
        "id": "8rrjf-tJ6F5H"
      },
      "source": [
        "### Test the NN model"
      ]
    },
    {
      "cell_type": "code",
      "metadata": {
        "colab": {
          "base_uri": "https://localhost:8080/"
        },
        "id": "-C2aH97Nhcjv",
        "outputId": "44f050f8-a7b1-4640-b2a0-203551c0b25f"
      },
      "source": [
        "score = model.evaluate(X_test, Y_test, verbose = 1)"
      ],
      "execution_count": 58,
      "outputs": [
        {
          "output_type": "stream",
          "text": [
            "313/313 [==============================] - 1s 3ms/step - loss: 1.2251 - accuracy: 0.4878\n"
          ],
          "name": "stdout"
        }
      ]
    },
    {
      "cell_type": "code",
      "metadata": {
        "colab": {
          "base_uri": "https://localhost:8080/"
        },
        "id": "rufZCwRmktUs",
        "outputId": "436f5566-b6ec-4fae-8724-56dd48f1bc4e"
      },
      "source": [
        "score = model2.evaluate(X_test, Y_test, verbose = 1)"
      ],
      "execution_count": 59,
      "outputs": [
        {
          "output_type": "stream",
          "text": [
            "313/313 [==============================] - 1s 3ms/step - loss: 1.0125 - accuracy: 0.5772\n"
          ],
          "name": "stdout"
        }
      ]
    },
    {
      "cell_type": "markdown",
      "metadata": {
        "id": "wAZAA7wdhBEO"
      },
      "source": [
        "model2 has better accuracy (58%) than model (49%)."
      ]
    },
    {
      "cell_type": "code",
      "metadata": {
        "id": "K8wBXJpsk9_c"
      },
      "source": [
        ""
      ],
      "execution_count": null,
      "outputs": []
    }
  ]
}