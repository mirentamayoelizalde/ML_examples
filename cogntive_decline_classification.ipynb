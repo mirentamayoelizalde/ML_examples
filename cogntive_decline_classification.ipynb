{
 "cells": [
  {
   "cell_type": "markdown",
   "metadata": {},
   "source": [
    "# Cognitive decline classification\n",
    "## Miren Tamayo-Elizalde, Ph.D.\n",
    "### February 2022"
   ]
  },
  {
   "cell_type": "code",
   "execution_count": 1,
   "metadata": {},
   "outputs": [],
   "source": [
    "# import the necessary modules\n",
    "import numpy as np\n",
    "import matplotlib.pyplot as plt\n",
    "import seaborn as sns\n",
    "import pandas as pd\n",
    "import missingno as msno\n",
    "from sklearn.preprocessing import StandardScaler\n",
    "from sklearn.linear_model import LogisticRegression\n",
    "from sklearn.ensemble import RandomForestClassifier\n",
    "from sklearn.neighbors import KNeighborsClassifier\n",
    "from sklearn.svm import SVC\n",
    "from sklearn.feature_selection import RFE\n",
    "from sklearn.model_selection import cross_val_score\n",
    "\n",
    "# Ignore sklearn warning for now\n",
    "import warnings\n",
    "warnings.filterwarnings('ignore') "
   ]
  },
  {
   "attachments": {},
   "cell_type": "markdown",
   "metadata": {},
   "source": [
    "# Aim\n",
    "This notebook explores different demographics data and cognitive scores from over 270 patients, and evaluates several common ML models to classify them into showing cognitive decline (label = 1) and not showing cognitive decline (label = 0). Further, the most relevant features for each model are selected.\n"
   ]
  },
  {
   "cell_type": "markdown",
   "metadata": {},
   "source": [
    "# Outline\n",
    "1. Data exploration and pre-processing\n",
    "2. Baseline with all features\n",
    "3. Feature selection\n",
    "3. Final model: SVC(Linear) with selected features\n"
   ]
  },
  {
   "cell_type": "markdown",
   "metadata": {},
   "source": [
    "# 1. Data exploration and pre-processing"
   ]
  },
  {
   "cell_type": "markdown",
   "metadata": {},
   "source": [
    "## Load train and test data"
   ]
  },
  {
   "cell_type": "code",
   "execution_count": 34,
   "metadata": {},
   "outputs": [],
   "source": [
    "X_train = pd.read_csv('train_data.csv')"
   ]
  },
  {
   "cell_type": "code",
   "execution_count": 35,
   "metadata": {},
   "outputs": [
    {
     "data": {
      "text/html": [
       "<div>\n",
       "<style scoped>\n",
       "    .dataframe tbody tr th:only-of-type {\n",
       "        vertical-align: middle;\n",
       "    }\n",
       "\n",
       "    .dataframe tbody tr th {\n",
       "        vertical-align: top;\n",
       "    }\n",
       "\n",
       "    .dataframe thead th {\n",
       "        text-align: right;\n",
       "    }\n",
       "</style>\n",
       "<table border=\"1\" class=\"dataframe\">\n",
       "  <thead>\n",
       "    <tr style=\"text-align: right;\">\n",
       "      <th></th>\n",
       "      <th>id</th>\n",
       "      <th>demographic_field_1</th>\n",
       "      <th>demographic_field_2</th>\n",
       "      <th>demographic_field_3</th>\n",
       "      <th>demographic_field_4</th>\n",
       "      <th>demographic_field_5</th>\n",
       "      <th>aggregated_scores_1</th>\n",
       "      <th>aggregated_scores_2</th>\n",
       "      <th>aggregated_scores_3</th>\n",
       "      <th>aggregated_scores_4</th>\n",
       "      <th>...</th>\n",
       "      <th>sequential_performance_22</th>\n",
       "      <th>sequential_performance_23</th>\n",
       "      <th>sequential_performance_24</th>\n",
       "      <th>sequential_performance_25</th>\n",
       "      <th>sequential_performance_26</th>\n",
       "      <th>sequential_performance_27</th>\n",
       "      <th>sequential_performance_28</th>\n",
       "      <th>sequential_performance_29</th>\n",
       "      <th>sequential_performance_30</th>\n",
       "      <th>label</th>\n",
       "    </tr>\n",
       "  </thead>\n",
       "  <tbody>\n",
       "    <tr>\n",
       "      <td>0</td>\n",
       "      <td>train_1</td>\n",
       "      <td>72.0</td>\n",
       "      <td>13.0</td>\n",
       "      <td>1.0</td>\n",
       "      <td>1.0</td>\n",
       "      <td>0.0</td>\n",
       "      <td>1.0</td>\n",
       "      <td>10.0</td>\n",
       "      <td>69.4235</td>\n",
       "      <td>81.4708</td>\n",
       "      <td>...</td>\n",
       "      <td>20.0</td>\n",
       "      <td>18.200000</td>\n",
       "      <td>4.500000</td>\n",
       "      <td>4.076475</td>\n",
       "      <td>1.0</td>\n",
       "      <td>14.0</td>\n",
       "      <td>1.055556</td>\n",
       "      <td>0.235702</td>\n",
       "      <td>2.0</td>\n",
       "      <td>1</td>\n",
       "    </tr>\n",
       "    <tr>\n",
       "      <td>1</td>\n",
       "      <td>train_2</td>\n",
       "      <td>62.0</td>\n",
       "      <td>11.0</td>\n",
       "      <td>1.0</td>\n",
       "      <td>1.0</td>\n",
       "      <td>1.0</td>\n",
       "      <td>1.0</td>\n",
       "      <td>10.0</td>\n",
       "      <td>59.0160</td>\n",
       "      <td>79.3770</td>\n",
       "      <td>...</td>\n",
       "      <td>24.0</td>\n",
       "      <td>18.500000</td>\n",
       "      <td>4.705882</td>\n",
       "      <td>5.193322</td>\n",
       "      <td>1.0</td>\n",
       "      <td>19.0</td>\n",
       "      <td>1.250000</td>\n",
       "      <td>0.447214</td>\n",
       "      <td>2.0</td>\n",
       "      <td>0</td>\n",
       "    </tr>\n",
       "    <tr>\n",
       "      <td>2</td>\n",
       "      <td>train_3</td>\n",
       "      <td>82.0</td>\n",
       "      <td>15.0</td>\n",
       "      <td>0.0</td>\n",
       "      <td>1.0</td>\n",
       "      <td>1.0</td>\n",
       "      <td>2.0</td>\n",
       "      <td>40.0</td>\n",
       "      <td>51.3012</td>\n",
       "      <td>74.3402</td>\n",
       "      <td>...</td>\n",
       "      <td>30.0</td>\n",
       "      <td>11.800000</td>\n",
       "      <td>3.571429</td>\n",
       "      <td>4.272838</td>\n",
       "      <td>1.0</td>\n",
       "      <td>15.0</td>\n",
       "      <td>1.250000</td>\n",
       "      <td>0.444262</td>\n",
       "      <td>2.0</td>\n",
       "      <td>1</td>\n",
       "    </tr>\n",
       "    <tr>\n",
       "      <td>3</td>\n",
       "      <td>train_4</td>\n",
       "      <td>86.0</td>\n",
       "      <td>9.0</td>\n",
       "      <td>1.0</td>\n",
       "      <td>0.0</td>\n",
       "      <td>1.0</td>\n",
       "      <td>2.0</td>\n",
       "      <td>40.0</td>\n",
       "      <td>27.9054</td>\n",
       "      <td>59.4747</td>\n",
       "      <td>...</td>\n",
       "      <td>57.0</td>\n",
       "      <td>3.789474</td>\n",
       "      <td>2.541667</td>\n",
       "      <td>3.064228</td>\n",
       "      <td>1.0</td>\n",
       "      <td>15.0</td>\n",
       "      <td>1.625000</td>\n",
       "      <td>0.710939</td>\n",
       "      <td>3.0</td>\n",
       "      <td>1</td>\n",
       "    </tr>\n",
       "    <tr>\n",
       "      <td>4</td>\n",
       "      <td>train_5</td>\n",
       "      <td>73.0</td>\n",
       "      <td>11.0</td>\n",
       "      <td>1.0</td>\n",
       "      <td>1.0</td>\n",
       "      <td>1.0</td>\n",
       "      <td>2.0</td>\n",
       "      <td>30.0</td>\n",
       "      <td>34.5373</td>\n",
       "      <td>61.3705</td>\n",
       "      <td>...</td>\n",
       "      <td>65.0</td>\n",
       "      <td>2.984615</td>\n",
       "      <td>2.952381</td>\n",
       "      <td>2.673503</td>\n",
       "      <td>1.0</td>\n",
       "      <td>11.0</td>\n",
       "      <td>1.900000</td>\n",
       "      <td>1.020836</td>\n",
       "      <td>4.0</td>\n",
       "      <td>1</td>\n",
       "    </tr>\n",
       "  </tbody>\n",
       "</table>\n",
       "<p>5 rows × 298 columns</p>\n",
       "</div>"
      ],
      "text/plain": [
       "        id  demographic_field_1  demographic_field_2  demographic_field_3  \\\n",
       "0  train_1                 72.0                 13.0                  1.0   \n",
       "1  train_2                 62.0                 11.0                  1.0   \n",
       "2  train_3                 82.0                 15.0                  0.0   \n",
       "3  train_4                 86.0                  9.0                  1.0   \n",
       "4  train_5                 73.0                 11.0                  1.0   \n",
       "\n",
       "   demographic_field_4  demographic_field_5  aggregated_scores_1  \\\n",
       "0                  1.0                  0.0                  1.0   \n",
       "1                  1.0                  1.0                  1.0   \n",
       "2                  1.0                  1.0                  2.0   \n",
       "3                  0.0                  1.0                  2.0   \n",
       "4                  1.0                  1.0                  2.0   \n",
       "\n",
       "   aggregated_scores_2  aggregated_scores_3  aggregated_scores_4  ...  \\\n",
       "0                 10.0              69.4235              81.4708  ...   \n",
       "1                 10.0              59.0160              79.3770  ...   \n",
       "2                 40.0              51.3012              74.3402  ...   \n",
       "3                 40.0              27.9054              59.4747  ...   \n",
       "4                 30.0              34.5373              61.3705  ...   \n",
       "\n",
       "   sequential_performance_22  sequential_performance_23  \\\n",
       "0                       20.0                  18.200000   \n",
       "1                       24.0                  18.500000   \n",
       "2                       30.0                  11.800000   \n",
       "3                       57.0                   3.789474   \n",
       "4                       65.0                   2.984615   \n",
       "\n",
       "   sequential_performance_24  sequential_performance_25  \\\n",
       "0                   4.500000                   4.076475   \n",
       "1                   4.705882                   5.193322   \n",
       "2                   3.571429                   4.272838   \n",
       "3                   2.541667                   3.064228   \n",
       "4                   2.952381                   2.673503   \n",
       "\n",
       "   sequential_performance_26  sequential_performance_27  \\\n",
       "0                        1.0                       14.0   \n",
       "1                        1.0                       19.0   \n",
       "2                        1.0                       15.0   \n",
       "3                        1.0                       15.0   \n",
       "4                        1.0                       11.0   \n",
       "\n",
       "   sequential_performance_28  sequential_performance_29  \\\n",
       "0                   1.055556                   0.235702   \n",
       "1                   1.250000                   0.447214   \n",
       "2                   1.250000                   0.444262   \n",
       "3                   1.625000                   0.710939   \n",
       "4                   1.900000                   1.020836   \n",
       "\n",
       "   sequential_performance_30  label  \n",
       "0                        2.0      1  \n",
       "1                        2.0      0  \n",
       "2                        2.0      1  \n",
       "3                        3.0      1  \n",
       "4                        4.0      1  \n",
       "\n",
       "[5 rows x 298 columns]"
      ]
     },
     "execution_count": 35,
     "metadata": {},
     "output_type": "execute_result"
    }
   ],
   "source": [
    "X_train.head()"
   ]
  },
  {
   "cell_type": "code",
   "execution_count": 36,
   "metadata": {},
   "outputs": [
    {
     "data": {
      "text/plain": [
       "Index(['id', 'demographic_field_1', 'demographic_field_2',\n",
       "       'demographic_field_3', 'demographic_field_4', 'demographic_field_5',\n",
       "       'aggregated_scores_1', 'aggregated_scores_2', 'aggregated_scores_3',\n",
       "       'aggregated_scores_4',\n",
       "       ...\n",
       "       'sequential_performance_22', 'sequential_performance_23',\n",
       "       'sequential_performance_24', 'sequential_performance_25',\n",
       "       'sequential_performance_26', 'sequential_performance_27',\n",
       "       'sequential_performance_28', 'sequential_performance_29',\n",
       "       'sequential_performance_30', 'label'],\n",
       "      dtype='object', length=298)"
      ]
     },
     "execution_count": 36,
     "metadata": {},
     "output_type": "execute_result"
    }
   ],
   "source": [
    "X_train.columns"
   ]
  },
  {
   "cell_type": "code",
   "execution_count": 37,
   "metadata": {},
   "outputs": [],
   "source": [
    "y_train = X_train.label\n",
    "# patient ID does not affect the prediction of the label\n",
    "X_train = X_train.drop(['label', 'id'], axis=1)"
   ]
  },
  {
   "cell_type": "markdown",
   "metadata": {},
   "source": [
    "Now X_train contain all the features."
   ]
  },
  {
   "cell_type": "code",
   "execution_count": 38,
   "metadata": {},
   "outputs": [
    {
     "data": {
      "image/png": "[encoded data removed]",
      "text/plain": [
       "<Figure size 432x288 with 1 Axes>"
      ]
     },
     "metadata": {
      "needs_background": "light"
     },
     "output_type": "display_data"
    }
   ],
   "source": [
    "# visualise labels\n",
    "sns.countplot(y_train)\n",
    "plt.title('Training labels')\n",
    "plt.xlabel('Label value')\n",
    "plt.ylabel('Count')\n",
    "plt.savefig('Training labels.png',dpi = 400, bbox_inches='tight')\n",
    "plt.show()"
   ]
  },
  {
   "cell_type": "code",
   "execution_count": 39,
   "metadata": {},
   "outputs": [],
   "source": [
    "X_test = pd.read_csv('test_data.csv')"
   ]
  },
  {
   "cell_type": "code",
   "execution_count": 40,
   "metadata": {},
   "outputs": [
    {
     "data": {
      "text/html": [
       "<div>\n",
       "<style scoped>\n",
       "    .dataframe tbody tr th:only-of-type {\n",
       "        vertical-align: middle;\n",
       "    }\n",
       "\n",
       "    .dataframe tbody tr th {\n",
       "        vertical-align: top;\n",
       "    }\n",
       "\n",
       "    .dataframe thead th {\n",
       "        text-align: right;\n",
       "    }\n",
       "</style>\n",
       "<table border=\"1\" class=\"dataframe\">\n",
       "  <thead>\n",
       "    <tr style=\"text-align: right;\">\n",
       "      <th></th>\n",
       "      <th>id</th>\n",
       "      <th>demographic_field_1</th>\n",
       "      <th>demographic_field_2</th>\n",
       "      <th>demographic_field_3</th>\n",
       "      <th>demographic_field_4</th>\n",
       "      <th>demographic_field_5</th>\n",
       "      <th>aggregated_scores_1</th>\n",
       "      <th>aggregated_scores_2</th>\n",
       "      <th>aggregated_scores_3</th>\n",
       "      <th>aggregated_scores_4</th>\n",
       "      <th>...</th>\n",
       "      <th>sequential_performance_21</th>\n",
       "      <th>sequential_performance_22</th>\n",
       "      <th>sequential_performance_23</th>\n",
       "      <th>sequential_performance_24</th>\n",
       "      <th>sequential_performance_25</th>\n",
       "      <th>sequential_performance_26</th>\n",
       "      <th>sequential_performance_27</th>\n",
       "      <th>sequential_performance_28</th>\n",
       "      <th>sequential_performance_29</th>\n",
       "      <th>sequential_performance_30</th>\n",
       "    </tr>\n",
       "  </thead>\n",
       "  <tbody>\n",
       "    <tr>\n",
       "      <td>0</td>\n",
       "      <td>test_1</td>\n",
       "      <td>60.0</td>\n",
       "      <td>15.0</td>\n",
       "      <td>1.0</td>\n",
       "      <td>1.0</td>\n",
       "      <td>0.0</td>\n",
       "      <td>NaN</td>\n",
       "      <td>10.0</td>\n",
       "      <td>73.0702</td>\n",
       "      <td>90.7424</td>\n",
       "      <td>...</td>\n",
       "      <td>1934.0</td>\n",
       "      <td>9.0</td>\n",
       "      <td>214.888889</td>\n",
       "      <td>11.500000</td>\n",
       "      <td>19.704967</td>\n",
       "      <td>1.0</td>\n",
       "      <td>59.0</td>\n",
       "      <td>1.142857</td>\n",
       "      <td>0.377964</td>\n",
       "      <td>2.0</td>\n",
       "    </tr>\n",
       "    <tr>\n",
       "      <td>1</td>\n",
       "      <td>test_2</td>\n",
       "      <td>61.0</td>\n",
       "      <td>13.0</td>\n",
       "      <td>1.0</td>\n",
       "      <td>1.0</td>\n",
       "      <td>0.0</td>\n",
       "      <td>NaN</td>\n",
       "      <td>20.0</td>\n",
       "      <td>68.1268</td>\n",
       "      <td>84.5149</td>\n",
       "      <td>...</td>\n",
       "      <td>361.0</td>\n",
       "      <td>16.0</td>\n",
       "      <td>22.562500</td>\n",
       "      <td>5.666667</td>\n",
       "      <td>3.330952</td>\n",
       "      <td>1.0</td>\n",
       "      <td>14.0</td>\n",
       "      <td>1.071429</td>\n",
       "      <td>0.267261</td>\n",
       "      <td>2.0</td>\n",
       "    </tr>\n",
       "    <tr>\n",
       "      <td>2</td>\n",
       "      <td>test_3</td>\n",
       "      <td>58.0</td>\n",
       "      <td>16.0</td>\n",
       "      <td>0.0</td>\n",
       "      <td>1.0</td>\n",
       "      <td>1.0</td>\n",
       "      <td>NaN</td>\n",
       "      <td>20.0</td>\n",
       "      <td>56.4412</td>\n",
       "      <td>87.2712</td>\n",
       "      <td>...</td>\n",
       "      <td>802.0</td>\n",
       "      <td>11.0</td>\n",
       "      <td>72.909091</td>\n",
       "      <td>9.000000</td>\n",
       "      <td>8.844333</td>\n",
       "      <td>1.0</td>\n",
       "      <td>31.0</td>\n",
       "      <td>1.111111</td>\n",
       "      <td>0.333333</td>\n",
       "      <td>2.0</td>\n",
       "    </tr>\n",
       "    <tr>\n",
       "      <td>3</td>\n",
       "      <td>test_4</td>\n",
       "      <td>62.0</td>\n",
       "      <td>18.0</td>\n",
       "      <td>1.0</td>\n",
       "      <td>0.0</td>\n",
       "      <td>0.0</td>\n",
       "      <td>NaN</td>\n",
       "      <td>10.0</td>\n",
       "      <td>66.4543</td>\n",
       "      <td>93.3223</td>\n",
       "      <td>...</td>\n",
       "      <td>1085.0</td>\n",
       "      <td>4.0</td>\n",
       "      <td>271.250000</td>\n",
       "      <td>19.200000</td>\n",
       "      <td>7.596052</td>\n",
       "      <td>11.0</td>\n",
       "      <td>30.0</td>\n",
       "      <td>1.000000</td>\n",
       "      <td>0.000000</td>\n",
       "      <td>1.0</td>\n",
       "    </tr>\n",
       "    <tr>\n",
       "      <td>4</td>\n",
       "      <td>test_5</td>\n",
       "      <td>78.0</td>\n",
       "      <td>12.0</td>\n",
       "      <td>0.0</td>\n",
       "      <td>1.0</td>\n",
       "      <td>1.0</td>\n",
       "      <td>NaN</td>\n",
       "      <td>20.0</td>\n",
       "      <td>73.1956</td>\n",
       "      <td>87.5177</td>\n",
       "      <td>...</td>\n",
       "      <td>690.0</td>\n",
       "      <td>12.0</td>\n",
       "      <td>57.500000</td>\n",
       "      <td>6.769231</td>\n",
       "      <td>7.617456</td>\n",
       "      <td>1.0</td>\n",
       "      <td>29.0</td>\n",
       "      <td>1.000000</td>\n",
       "      <td>0.000000</td>\n",
       "      <td>1.0</td>\n",
       "    </tr>\n",
       "  </tbody>\n",
       "</table>\n",
       "<p>5 rows × 297 columns</p>\n",
       "</div>"
      ],
      "text/plain": [
       "       id  demographic_field_1  demographic_field_2  demographic_field_3  \\\n",
       "0  test_1                 60.0                 15.0                  1.0   \n",
       "1  test_2                 61.0                 13.0                  1.0   \n",
       "2  test_3                 58.0                 16.0                  0.0   \n",
       "3  test_4                 62.0                 18.0                  1.0   \n",
       "4  test_5                 78.0                 12.0                  0.0   \n",
       "\n",
       "   demographic_field_4  demographic_field_5  aggregated_scores_1  \\\n",
       "0                  1.0                  0.0                  NaN   \n",
       "1                  1.0                  0.0                  NaN   \n",
       "2                  1.0                  1.0                  NaN   \n",
       "3                  0.0                  0.0                  NaN   \n",
       "4                  1.0                  1.0                  NaN   \n",
       "\n",
       "   aggregated_scores_2  aggregated_scores_3  aggregated_scores_4  ...  \\\n",
       "0                 10.0              73.0702              90.7424  ...   \n",
       "1                 20.0              68.1268              84.5149  ...   \n",
       "2                 20.0              56.4412              87.2712  ...   \n",
       "3                 10.0              66.4543              93.3223  ...   \n",
       "4                 20.0              73.1956              87.5177  ...   \n",
       "\n",
       "   sequential_performance_21  sequential_performance_22  \\\n",
       "0                     1934.0                        9.0   \n",
       "1                      361.0                       16.0   \n",
       "2                      802.0                       11.0   \n",
       "3                     1085.0                        4.0   \n",
       "4                      690.0                       12.0   \n",
       "\n",
       "   sequential_performance_23  sequential_performance_24  \\\n",
       "0                 214.888889                  11.500000   \n",
       "1                  22.562500                   5.666667   \n",
       "2                  72.909091                   9.000000   \n",
       "3                 271.250000                  19.200000   \n",
       "4                  57.500000                   6.769231   \n",
       "\n",
       "   sequential_performance_25  sequential_performance_26  \\\n",
       "0                  19.704967                        1.0   \n",
       "1                   3.330952                        1.0   \n",
       "2                   8.844333                        1.0   \n",
       "3                   7.596052                       11.0   \n",
       "4                   7.617456                        1.0   \n",
       "\n",
       "   sequential_performance_27  sequential_performance_28  \\\n",
       "0                       59.0                   1.142857   \n",
       "1                       14.0                   1.071429   \n",
       "2                       31.0                   1.111111   \n",
       "3                       30.0                   1.000000   \n",
       "4                       29.0                   1.000000   \n",
       "\n",
       "   sequential_performance_29  sequential_performance_30  \n",
       "0                   0.377964                        2.0  \n",
       "1                   0.267261                        2.0  \n",
       "2                   0.333333                        2.0  \n",
       "3                   0.000000                        1.0  \n",
       "4                   0.000000                        1.0  \n",
       "\n",
       "[5 rows x 297 columns]"
      ]
     },
     "execution_count": 40,
     "metadata": {},
     "output_type": "execute_result"
    }
   ],
   "source": [
    "X_test.head()"
   ]
  },
  {
   "cell_type": "code",
   "execution_count": 41,
   "metadata": {},
   "outputs": [],
   "source": [
    "patientId = X_test['id'] # save it to generate the output csv file at the end\n",
    "X_test = X_test.drop(['id'], axis = 1)"
   ]
  },
  {
   "cell_type": "code",
   "execution_count": 42,
   "metadata": {},
   "outputs": [
    {
     "name": "stdout",
     "output_type": "stream",
     "text": [
      "Train data shape: (276, 296)\n",
      "Train labels shape: (276,)\n",
      "Test data shape: (220, 296)\n"
     ]
    }
   ],
   "source": [
    "print('Train data shape: ' + str(X_train.shape))\n",
    "print('Train labels shape: ' + str(y_train.shape))\n",
    "print('Test data shape: ' + str(X_test.shape))"
   ]
  },
  {
   "cell_type": "markdown",
   "metadata": {},
   "source": [
    "## Identify missing values"
   ]
  },
  {
   "cell_type": "code",
   "execution_count": 43,
   "metadata": {},
   "outputs": [
    {
     "data": {
      "image/png": "[encoded data removed]",
      "text/plain": [
       "<Figure size 1800x720 with 2 Axes>"
      ]
     },
     "metadata": {
      "needs_background": "light"
     },
     "output_type": "display_data"
    }
   ],
   "source": [
    "msno.matrix(X_train)\n",
    "plt.ylabel('Patients')\n",
    "plt.xlabel('Features')\n",
    "plt.rcParams.update({'font.size': 22})\n",
    "plt.show()"
   ]
  },
  {
   "cell_type": "markdown",
   "metadata": {},
   "source": [
    "Some of the patients in the training set have data missing in some features/variables."
   ]
  },
  {
   "cell_type": "code",
   "execution_count": 44,
   "metadata": {},
   "outputs": [
    {
     "data": {
      "image/png": "[encoded data removed]",
      "text/plain": [
       "<Figure size 1800x720 with 2 Axes>"
      ]
     },
     "metadata": {
      "needs_background": "light"
     },
     "output_type": "display_data"
    }
   ],
   "source": [
    "msno.matrix(X_test)\n",
    "plt.ylabel('Patients')\n",
    "plt.xlabel('Features')\n",
    "plt.rcParams.update({'font.size': 22})\n",
    "plt.show()"
   ]
  },
  {
   "cell_type": "markdown",
   "metadata": {},
   "source": [
    "All of the patients in the test set have data missing in the same features/variables as the train set. As we cannot use these variables to predict the label in the test set, it does not make sense to use them in the training either - we will drop them in both datasets."
   ]
  },
  {
   "cell_type": "code",
   "execution_count": 45,
   "metadata": {},
   "outputs": [
    {
     "data": {
      "text/plain": [
       "aggregated_scores_1     220\n",
       "aggregated_scores_43    220\n",
       "aggregated_scores_44    220\n",
       "aggregated_scores_45    220\n",
       "aggregated_scores_46    220\n",
       "aggregated_scores_47    220\n",
       "aggregated_scores_48    220\n",
       "aggregated_scores_49    220\n",
       "aggregated_scores_50    220\n",
       "aggregated_scores_51    220\n",
       "aggregated_scores_52    220\n",
       "aggregated_scores_53    220\n",
       "aggregated_scores_54    220\n",
       "aggregated_scores_55    220\n",
       "aggregated_scores_56    220\n",
       "aggregated_scores_57    220\n",
       "aggregated_scores_58    220\n",
       "aggregated_scores_59    220\n",
       "aggregated_scores_60    220\n",
       "aggregated_scores_61    220\n",
       "dtype: int64"
      ]
     },
     "execution_count": 45,
     "metadata": {},
     "output_type": "execute_result"
    }
   ],
   "source": [
    "# identify empty columns\n",
    "missing_test = X_test.isnull().sum()\n",
    "del_col = missing_test[missing_test != 0]\n",
    "del_col # columns to delete"
   ]
  },
  {
   "cell_type": "code",
   "execution_count": 46,
   "metadata": {},
   "outputs": [],
   "source": [
    "# delete empty columns in training and test sets\n",
    "X_train = X_train.drop(del_col.index[:], axis = 1)\n",
    "X_test = X_test.drop(del_col.index[:], axis = 1)"
   ]
  },
  {
   "cell_type": "code",
   "execution_count": 47,
   "metadata": {},
   "outputs": [
    {
     "data": {
      "image/png": "[encoded data removed]",
      "text/plain": [
       "<Figure size 1800x720 with 2 Axes>"
      ]
     },
     "metadata": {
      "needs_background": "light"
     },
     "output_type": "display_data"
    },
    {
     "data": {
      "image/png": "[encoded data removed]",
      "text/plain": [
       "<Figure size 1800x720 with 2 Axes>"
      ]
     },
     "metadata": {
      "needs_background": "light"
     },
     "output_type": "display_data"
    }
   ],
   "source": [
    "msno.matrix(X_train)\n",
    "plt.ylabel('Patients')\n",
    "plt.xlabel('Features')\n",
    "plt.rcParams.update({'font.size': 22})\n",
    "\n",
    "msno.matrix(X_test)\n",
    "plt.ylabel('Patients')\n",
    "plt.xlabel('Features')\n",
    "plt.rcParams.update({'font.size': 22})\n",
    "plt.show()"
   ]
  },
  {
   "cell_type": "markdown",
   "metadata": {},
   "source": [
    "There are still a few patients (rows) in the train data with missing values. The test data is clean now."
   ]
  },
  {
   "cell_type": "code",
   "execution_count": 48,
   "metadata": {},
   "outputs": [
    {
     "data": {
      "text/html": [
       "<div>\n",
       "<style scoped>\n",
       "    .dataframe tbody tr th:only-of-type {\n",
       "        vertical-align: middle;\n",
       "    }\n",
       "\n",
       "    .dataframe tbody tr th {\n",
       "        vertical-align: top;\n",
       "    }\n",
       "\n",
       "    .dataframe thead th {\n",
       "        text-align: right;\n",
       "    }\n",
       "</style>\n",
       "<table border=\"1\" class=\"dataframe\">\n",
       "  <thead>\n",
       "    <tr style=\"text-align: right;\">\n",
       "      <th></th>\n",
       "      <th>demographic_field_1</th>\n",
       "      <th>demographic_field_2</th>\n",
       "      <th>demographic_field_3</th>\n",
       "      <th>demographic_field_4</th>\n",
       "      <th>demographic_field_5</th>\n",
       "      <th>aggregated_scores_2</th>\n",
       "      <th>aggregated_scores_3</th>\n",
       "      <th>aggregated_scores_4</th>\n",
       "      <th>aggregated_scores_5</th>\n",
       "      <th>aggregated_scores_6</th>\n",
       "      <th>...</th>\n",
       "      <th>sequential_performance_21</th>\n",
       "      <th>sequential_performance_22</th>\n",
       "      <th>sequential_performance_23</th>\n",
       "      <th>sequential_performance_24</th>\n",
       "      <th>sequential_performance_25</th>\n",
       "      <th>sequential_performance_26</th>\n",
       "      <th>sequential_performance_27</th>\n",
       "      <th>sequential_performance_28</th>\n",
       "      <th>sequential_performance_29</th>\n",
       "      <th>sequential_performance_30</th>\n",
       "    </tr>\n",
       "  </thead>\n",
       "  <tbody>\n",
       "    <tr>\n",
       "      <td>271</td>\n",
       "      <td>65.0</td>\n",
       "      <td>12.0</td>\n",
       "      <td>1.0</td>\n",
       "      <td>NaN</td>\n",
       "      <td>NaN</td>\n",
       "      <td>10.0</td>\n",
       "      <td>69.2326</td>\n",
       "      <td>94.4374</td>\n",
       "      <td>97.0</td>\n",
       "      <td>71.3738</td>\n",
       "      <td>...</td>\n",
       "      <td>1637.0</td>\n",
       "      <td>3.0</td>\n",
       "      <td>545.666667</td>\n",
       "      <td>24.250000</td>\n",
       "      <td>16.580611</td>\n",
       "      <td>6.0</td>\n",
       "      <td>46.0</td>\n",
       "      <td>1.000000</td>\n",
       "      <td>0.000000</td>\n",
       "      <td>1.0</td>\n",
       "    </tr>\n",
       "    <tr>\n",
       "      <td>272</td>\n",
       "      <td>71.0</td>\n",
       "      <td>12.0</td>\n",
       "      <td>1.0</td>\n",
       "      <td>NaN</td>\n",
       "      <td>NaN</td>\n",
       "      <td>10.0</td>\n",
       "      <td>79.9566</td>\n",
       "      <td>83.5508</td>\n",
       "      <td>82.0</td>\n",
       "      <td>97.5080</td>\n",
       "      <td>...</td>\n",
       "      <td>562.0</td>\n",
       "      <td>18.0</td>\n",
       "      <td>31.222222</td>\n",
       "      <td>4.555556</td>\n",
       "      <td>6.270587</td>\n",
       "      <td>1.0</td>\n",
       "      <td>28.0</td>\n",
       "      <td>1.000000</td>\n",
       "      <td>0.000000</td>\n",
       "      <td>1.0</td>\n",
       "    </tr>\n",
       "    <tr>\n",
       "      <td>273</td>\n",
       "      <td>57.0</td>\n",
       "      <td>12.0</td>\n",
       "      <td>1.0</td>\n",
       "      <td>NaN</td>\n",
       "      <td>NaN</td>\n",
       "      <td>10.0</td>\n",
       "      <td>68.1642</td>\n",
       "      <td>82.9126</td>\n",
       "      <td>83.0</td>\n",
       "      <td>82.1255</td>\n",
       "      <td>...</td>\n",
       "      <td>365.0</td>\n",
       "      <td>23.0</td>\n",
       "      <td>15.869565</td>\n",
       "      <td>5.533333</td>\n",
       "      <td>3.661902</td>\n",
       "      <td>1.0</td>\n",
       "      <td>14.0</td>\n",
       "      <td>1.214286</td>\n",
       "      <td>0.801784</td>\n",
       "      <td>4.0</td>\n",
       "    </tr>\n",
       "    <tr>\n",
       "      <td>274</td>\n",
       "      <td>59.0</td>\n",
       "      <td>12.0</td>\n",
       "      <td>0.0</td>\n",
       "      <td>NaN</td>\n",
       "      <td>NaN</td>\n",
       "      <td>10.0</td>\n",
       "      <td>66.5837</td>\n",
       "      <td>90.0374</td>\n",
       "      <td>92.0</td>\n",
       "      <td>72.3736</td>\n",
       "      <td>...</td>\n",
       "      <td>984.0</td>\n",
       "      <td>8.0</td>\n",
       "      <td>123.000000</td>\n",
       "      <td>10.222222</td>\n",
       "      <td>10.814085</td>\n",
       "      <td>1.0</td>\n",
       "      <td>37.0</td>\n",
       "      <td>1.000000</td>\n",
       "      <td>0.000000</td>\n",
       "      <td>1.0</td>\n",
       "    </tr>\n",
       "    <tr>\n",
       "      <td>275</td>\n",
       "      <td>59.0</td>\n",
       "      <td>NaN</td>\n",
       "      <td>1.0</td>\n",
       "      <td>NaN</td>\n",
       "      <td>NaN</td>\n",
       "      <td>10.0</td>\n",
       "      <td>57.7497</td>\n",
       "      <td>82.4750</td>\n",
       "      <td>84.0</td>\n",
       "      <td>68.7496</td>\n",
       "      <td>...</td>\n",
       "      <td>414.0</td>\n",
       "      <td>20.0</td>\n",
       "      <td>20.700000</td>\n",
       "      <td>6.000000</td>\n",
       "      <td>4.296689</td>\n",
       "      <td>1.0</td>\n",
       "      <td>14.0</td>\n",
       "      <td>1.230769</td>\n",
       "      <td>0.599145</td>\n",
       "      <td>3.0</td>\n",
       "    </tr>\n",
       "  </tbody>\n",
       "</table>\n",
       "<p>5 rows × 276 columns</p>\n",
       "</div>"
      ],
      "text/plain": [
       "     demographic_field_1  demographic_field_2  demographic_field_3  \\\n",
       "271                 65.0                 12.0                  1.0   \n",
       "272                 71.0                 12.0                  1.0   \n",
       "273                 57.0                 12.0                  1.0   \n",
       "274                 59.0                 12.0                  0.0   \n",
       "275                 59.0                  NaN                  1.0   \n",
       "\n",
       "     demographic_field_4  demographic_field_5  aggregated_scores_2  \\\n",
       "271                  NaN                  NaN                 10.0   \n",
       "272                  NaN                  NaN                 10.0   \n",
       "273                  NaN                  NaN                 10.0   \n",
       "274                  NaN                  NaN                 10.0   \n",
       "275                  NaN                  NaN                 10.0   \n",
       "\n",
       "     aggregated_scores_3  aggregated_scores_4  aggregated_scores_5  \\\n",
       "271              69.2326              94.4374                 97.0   \n",
       "272              79.9566              83.5508                 82.0   \n",
       "273              68.1642              82.9126                 83.0   \n",
       "274              66.5837              90.0374                 92.0   \n",
       "275              57.7497              82.4750                 84.0   \n",
       "\n",
       "     aggregated_scores_6  ...  sequential_performance_21  \\\n",
       "271              71.3738  ...                     1637.0   \n",
       "272              97.5080  ...                      562.0   \n",
       "273              82.1255  ...                      365.0   \n",
       "274              72.3736  ...                      984.0   \n",
       "275              68.7496  ...                      414.0   \n",
       "\n",
       "     sequential_performance_22  sequential_performance_23  \\\n",
       "271                        3.0                 545.666667   \n",
       "272                       18.0                  31.222222   \n",
       "273                       23.0                  15.869565   \n",
       "274                        8.0                 123.000000   \n",
       "275                       20.0                  20.700000   \n",
       "\n",
       "     sequential_performance_24  sequential_performance_25  \\\n",
       "271                  24.250000                  16.580611   \n",
       "272                   4.555556                   6.270587   \n",
       "273                   5.533333                   3.661902   \n",
       "274                  10.222222                  10.814085   \n",
       "275                   6.000000                   4.296689   \n",
       "\n",
       "     sequential_performance_26  sequential_performance_27  \\\n",
       "271                        6.0                       46.0   \n",
       "272                        1.0                       28.0   \n",
       "273                        1.0                       14.0   \n",
       "274                        1.0                       37.0   \n",
       "275                        1.0                       14.0   \n",
       "\n",
       "     sequential_performance_28  sequential_performance_29  \\\n",
       "271                   1.000000                   0.000000   \n",
       "272                   1.000000                   0.000000   \n",
       "273                   1.214286                   0.801784   \n",
       "274                   1.000000                   0.000000   \n",
       "275                   1.230769                   0.599145   \n",
       "\n",
       "     sequential_performance_30  \n",
       "271                        1.0  \n",
       "272                        1.0  \n",
       "273                        4.0  \n",
       "274                        1.0  \n",
       "275                        3.0  \n",
       "\n",
       "[5 rows x 276 columns]"
      ]
     },
     "execution_count": 48,
     "metadata": {},
     "output_type": "execute_result"
    }
   ],
   "source": [
    "X_train.tail()"
   ]
  },
  {
   "cell_type": "code",
   "execution_count": 49,
   "metadata": {},
   "outputs": [],
   "source": [
    "# identify NaN values in train data to be replaced with the mean of each column\n",
    "missing_train = X_train.isnull().sum()\n",
    "repl_col = missing_train[missing_train != 0]"
   ]
  },
  {
   "cell_type": "code",
   "execution_count": 50,
   "metadata": {},
   "outputs": [],
   "source": [
    "#replace NaN values with mean from each colum in data\n",
    "for i in range (0, len(repl_col)):\n",
    "    X_train[repl_col.index[i]] = X_train[repl_col.index[i]].fillna(X_train[repl_col.index[i]].mean())"
   ]
  },
  {
   "cell_type": "code",
   "execution_count": 51,
   "metadata": {},
   "outputs": [
    {
     "data": {
      "image/png": "[encoded data removed]",
      "text/plain": [
       "<Figure size 1800x720 with 2 Axes>"
      ]
     },
     "metadata": {
      "needs_background": "light"
     },
     "output_type": "display_data"
    }
   ],
   "source": [
    "msno.matrix(X_train)\n",
    "plt.ylabel('Patients')\n",
    "plt.xlabel('Features')\n",
    "plt.rcParams.update({'font.size': 22})\n",
    "plt.show()"
   ]
  },
  {
   "cell_type": "markdown",
   "metadata": {},
   "source": [
    "There are no more missing values"
   ]
  },
  {
   "cell_type": "code",
   "execution_count": 52,
   "metadata": {},
   "outputs": [
    {
     "name": "stdout",
     "output_type": "stream",
     "text": [
      "Clean train data shape: (276, 276)\n",
      "Train labels shape: (276,)\n",
      "Clean test data shape: (220, 276)\n"
     ]
    }
   ],
   "source": [
    "print('Clean train data shape: ' + str(X_train.shape))\n",
    "print('Train labels shape: ' + str(y_train.shape))\n",
    "print('Clean test data shape: ' + str(X_test.shape))"
   ]
  },
  {
   "cell_type": "markdown",
   "metadata": {},
   "source": [
    "Now let's check that the columns are the same in both data sets"
   ]
  },
  {
   "cell_type": "code",
   "execution_count": 53,
   "metadata": {},
   "outputs": [
    {
     "data": {
      "text/plain": [
       "Index([], dtype='object')"
      ]
     },
     "execution_count": 53,
     "metadata": {},
     "output_type": "execute_result"
    }
   ],
   "source": [
    "X_train.columns.difference(X_test.columns)"
   ]
  },
  {
   "cell_type": "code",
   "execution_count": 54,
   "metadata": {},
   "outputs": [
    {
     "data": {
      "text/plain": [
       "Index([], dtype='object')"
      ]
     },
     "execution_count": 54,
     "metadata": {},
     "output_type": "execute_result"
    }
   ],
   "source": [
    "X_test.columns.difference(X_train.columns)"
   ]
  },
  {
   "cell_type": "markdown",
   "metadata": {},
   "source": [
    "There are no differences between the column names in both data sets, thus they are the same."
   ]
  },
  {
   "cell_type": "code",
   "execution_count": 55,
   "metadata": {},
   "outputs": [],
   "source": [
    "col_names = X_train.columns #save column names"
   ]
  },
  {
   "cell_type": "markdown",
   "metadata": {},
   "source": [
    "## Save clean train and test sets as csv files"
   ]
  },
  {
   "cell_type": "code",
   "execution_count": 56,
   "metadata": {},
   "outputs": [],
   "source": [
    "X_train.to_csv('train_set_features.csv', index = False)\n",
    "y_train.to_csv('train_set_labels.csv', index = False)\n",
    "X_test.to_csv('test_set_features.csv', index = False)"
   ]
  },
  {
   "cell_type": "markdown",
   "metadata": {},
   "source": [
    "## Scale training data"
   ]
  },
  {
   "cell_type": "code",
   "execution_count": 57,
   "metadata": {},
   "outputs": [],
   "source": [
    "# scale training data, so that each feature/column has mean 0 and std 1    \n",
    "scaler = StandardScaler()\n",
    "\n",
    "X_train = scaler.fit_transform(X_train)\n",
    "X_test = scaler.transform(X_test)"
   ]
  },
  {
   "cell_type": "markdown",
   "metadata": {},
   "source": [
    "# 2. Baseline with all the features"
   ]
  },
  {
   "cell_type": "markdown",
   "metadata": {},
   "source": [
    "## Compare classifiers with all features"
   ]
  },
  {
   "cell_type": "markdown",
   "metadata": {},
   "source": [
    "We will compare the following ML models, commonly used for supervised data classification: random forest (RF), k-nearest neighbors (knn), linear support vector classifier (SVC) and logistic regression (LogReg)."
   ]
  },
  {
   "cell_type": "code",
   "execution_count": 59,
   "metadata": {},
   "outputs": [
    {
     "data": {
      "image/png": "[encoded data removed]",
      "text/plain": [
       "<Figure size 432x288 with 1 Axes>"
      ]
     },
     "metadata": {
      "needs_background": "light"
     },
     "output_type": "display_data"
    }
   ],
   "source": [
    "models = [\n",
    "    RandomForestClassifier(n_estimators=200, max_depth=5, random_state=0),\n",
    "    KNeighborsClassifier(n_neighbors=50),\n",
    "    SVC(kernel='linear', random_state=0),\n",
    "    LogisticRegression(random_state=0)]\n",
    "\n",
    "model_names = [\n",
    "    'RF',\n",
    "    'knn',\n",
    "    'SVC(Linear)',\n",
    "    'LogReg']\n",
    "  \n",
    "CV = 10\n",
    "cv_df = pd.DataFrame(index=range(CV * len(models)))\n",
    "entries = []\n",
    "for i, model in enumerate(models):\n",
    "    model_name = model_names[i]\n",
    "    accuracies = cross_val_score(model, X_train, y_train, cv = CV,scoring = 'accuracy')\n",
    "    for fold_idx, accuracy in enumerate(accuracies):\n",
    "        entries.append((model_name, fold_idx, accuracy))\n",
    "        cv_df = pd.DataFrame(entries, columns = ['model_name', 'fold_idx', 'accuracy'])\n",
    "\n",
    "sns.boxplot(x ='model_name', y = 'accuracy', data = cv_df)\n",
    "sns.stripplot(x ='model_name', y = 'accuracy', data = cv_df, \n",
    "              size = 8, jitter = True, edgecolor = \"gray\", linewidth = 2)\n",
    "\n",
    "plt.rcParams.update({'font.size': 12})\n",
    "plt.savefig('baseline.png',dpi = 400, bbox_inches='tight')\n",
    "plt.show()"
   ]
  },
  {
   "cell_type": "code",
   "execution_count": 60,
   "metadata": {},
   "outputs": [
    {
     "name": "stdout",
     "output_type": "stream",
     "text": [
      "Method: RF - Acc: 0.76\n",
      "Method: knn - Acc: 0.63\n",
      "Method: SVC(Linear) - Acc: 0.69\n",
      "Method: LogReg - Acc: 0.70\n"
     ]
    }
   ],
   "source": [
    "for method_name in model_names:\n",
    "    val_acc = np.asarray(list(map(lambda x: x[2] if x[0] == method_name else 0, np.asarray(cv_df)))).sum()/CV\n",
    "    print('Method: {} - Acc: {:.2f}'.format(method_name, val_acc))"
   ]
  },
  {
   "cell_type": "markdown",
   "metadata": {},
   "source": [
    "As per its accuracy, knn is not a reliable machine learning classifier for this data set - we will drop it for now and try to improve the other models' performances by selecting the most important features. The benefits of this are three fold: 1) speed up training, 2) avoid overfitting and 3) lead to better classification results due to the reduced noise in the data."
   ]
  },
  {
   "cell_type": "markdown",
   "metadata": {},
   "source": [
    "# 3. Feature selection"
   ]
  },
  {
   "cell_type": "markdown",
   "metadata": {},
   "source": [
    "We look at feature selection (through Recursive Feature Elimination, RFE) for the most promising classifiers: RF, SVC and LogReg"
   ]
  },
  {
   "cell_type": "markdown",
   "metadata": {},
   "source": [
    "## Classifiers comparison with selected features"
   ]
  },
  {
   "cell_type": "code",
   "execution_count": 62,
   "metadata": {},
   "outputs": [
    {
     "name": "stdout",
     "output_type": "stream",
     "text": [
      "Method: RF - Acc: 0.76\n",
      "Method: SVC(linear) - Acc: 0.80\n",
      "Method: LogReg - Acc: 0.82\n",
      "Method: RF - Acc: 0.77\n",
      "Method: SVC(linear) - Acc: 0.83\n",
      "Method: LogReg - Acc: 0.85\n",
      "Method: RF - Acc: 0.77\n",
      "Method: SVC(linear) - Acc: 0.90\n",
      "Method: LogReg - Acc: 0.88\n",
      "Method: RF - Acc: 0.77\n",
      "Method: SVC(linear) - Acc: 0.95\n",
      "Method: LogReg - Acc: 0.90\n",
      "Method: RF - Acc: 0.77\n",
      "Method: SVC(linear) - Acc: 0.96\n",
      "Method: LogReg - Acc: 0.88\n",
      "Method: RF - Acc: 0.77\n",
      "Method: SVC(linear) - Acc: 0.95\n",
      "Method: LogReg - Acc: 0.86\n",
      "Method: RF - Acc: 0.74\n",
      "Method: SVC(linear) - Acc: 0.94\n",
      "Method: LogReg - Acc: 0.84\n",
      "Method: RF - Acc: 0.77\n",
      "Method: SVC(linear) - Acc: 0.90\n",
      "Method: LogReg - Acc: 0.83\n",
      "Method: RF - Acc: 0.74\n",
      "Method: SVC(linear) - Acc: 0.86\n",
      "Method: LogReg - Acc: 0.81\n",
      "Method: RF - Acc: 0.75\n",
      "Method: SVC(linear) - Acc: 0.81\n",
      "Method: LogReg - Acc: 0.80\n",
      "Method: RF - Acc: 0.76\n",
      "Method: SVC(linear) - Acc: 0.78\n",
      "Method: LogReg - Acc: 0.76\n",
      "Method: RF - Acc: 0.76\n",
      "Method: SVC(linear) - Acc: 0.73\n",
      "Method: LogReg - Acc: 0.74\n",
      "Method: RF - Acc: 0.74\n",
      "Method: SVC(linear) - Acc: 0.72\n",
      "Method: LogReg - Acc: 0.72\n",
      "Method: RF - Acc: 0.76\n",
      "Method: SVC(linear) - Acc: 0.69\n",
      "Method: LogReg - Acc: 0.70\n"
     ]
    }
   ],
   "source": [
    "X_train = pd.DataFrame(X_train, columns=col_names) # convert from numpy to dataframe\n",
    "\n",
    "models = [\n",
    "    RandomForestClassifier(n_estimators=200, max_depth=5, random_state=0),\n",
    "    SVC(kernel='linear', random_state=0),\n",
    "    LogisticRegression(random_state=0)\n",
    "]\n",
    "\n",
    "model_names = [\n",
    "    'RF',\n",
    "    'SVC(linear)',\n",
    "    'LogReg'\n",
    "]\n",
    "\n",
    "\n",
    "CV = 10\n",
    "start = 10\n",
    "step = 20\n",
    "entries = []\n",
    "acc_dict = {}\n",
    "\n",
    "for model_name in model_names:\n",
    "    acc_dict[model_name] = []\n",
    "\n",
    "for n_feats in range(start, 276, step):\n",
    "    \n",
    "    for i, model in enumerate(models):\n",
    "        val_acc = 0\n",
    "        \n",
    "        rfe = RFE(model, n_feats)\n",
    "        rfe = rfe.fit(X_train, y_train.values.ravel())\n",
    "        X_train_sel_feat = X_train[X_train.columns[rfe.support_]] \n",
    "        \n",
    "        model_name = model_names[i]\n",
    "        accuracies = cross_val_score(model, X_train_sel_feat, y_train, cv = CV, scoring = 'accuracy')  \n",
    "        \n",
    "        cv_df = pd.DataFrame(entries, columns = ['model_name', 'fold_idx', 'accuracy'])\n",
    "        \n",
    "        for accuracy in accuracies:\n",
    "            val_acc += accuracy\n",
    "            \n",
    "        val_acc = val_acc/CV # mean accuraccy     \n",
    "        acc_dict[model_name].append(val_acc)\n",
    "        \n",
    "        print('Method: {} - Acc: {:.2f}'.format(model_name, val_acc))"
   ]
  },
  {
   "cell_type": "code",
   "execution_count": 87,
   "metadata": {},
   "outputs": [
    {
     "name": "stdout",
     "output_type": "stream",
     "text": [
      "RF - Acc: 0.77 - Opt num feats: 110 \n",
      "\n",
      "SVC(linear) - Acc: 0.96 - Opt num feats: 90 \n",
      "\n",
      "LogReg - Acc: 0.90 - Opt num feats: 70 \n",
      "\n"
     ]
    },
    {
     "data": {
      "image/png": "[encoded data removed]",
      "text/plain": [
       "<Figure size 432x288 with 1 Axes>"
      ]
     },
     "metadata": {
      "needs_background": "light"
     },
     "output_type": "display_data"
    },
    {
     "data": {
      "image/png": "[encoded data removed]",
      "text/plain": [
       "<Figure size 432x288 with 1 Axes>"
      ]
     },
     "metadata": {
      "needs_background": "light"
     },
     "output_type": "display_data"
    },
    {
     "data": {
      "image/png": "[encoded data removed]",
      "text/plain": [
       "<Figure size 432x288 with 1 Axes>"
      ]
     },
     "metadata": {
      "needs_background": "light"
     },
     "output_type": "display_data"
    }
   ],
   "source": [
    "for model_name in model_names:        \n",
    "    acc_vs_nfeats = np.asarray(acc_dict[model_name])\n",
    "    print('{} - Acc: {:.2f} - Opt num feats: {} \\n'.format(model_name, acc_vs_nfeats.max(), acc_vs_nfeats.argmax()*step+start))\n",
    "for model_name in model_names:        \n",
    "    plt.figure()\n",
    "    plt.title(model_name)\n",
    "    plt.xlabel('Num selected features')\n",
    "    plt.ylabel(\"Accuracy\")\n",
    "    plt.plot(range(10, 276, step), acc_dict[model_name])\n",
    "    plt.savefig('Features_selection_{}.png'.format(model_name),dpi = 400, bbox_inches='tight')\n",
    "    plt.show()"
   ]
  },
  {
   "cell_type": "markdown",
   "metadata": {},
   "source": [
    "The SVC(Linear) model with 90 selected features is the one that best predicts the labels. We will use it to explore the data and predict the labels of the test set"
   ]
  },
  {
   "cell_type": "markdown",
   "metadata": {},
   "source": [
    "## Reduced data sets with selected features\n"
   ]
  },
  {
   "cell_type": "code",
   "execution_count": 71,
   "metadata": {},
   "outputs": [
    {
     "name": "stdout",
     "output_type": "stream",
     "text": [
      "Train data shape: (276, 276)\n",
      "Test data shape: (220, 276)\n"
     ]
    }
   ],
   "source": [
    "X_train = pd.DataFrame(X_train, columns=col_names)\n",
    "X_test = pd.DataFrame(X_test, columns=col_names)\n",
    "\n",
    "print('Train data shape: ' + str(X_train.shape))\n",
    "print('Test data shape: ' + str(X_test.shape))"
   ]
  },
  {
   "cell_type": "code",
   "execution_count": 72,
   "metadata": {},
   "outputs": [],
   "source": [
    "acc_vs_nfeats = np.asarray(acc_dict['SVC(linear)'])\n",
    "n_feats = acc_vs_nfeats.argmax()*step+start"
   ]
  },
  {
   "cell_type": "code",
   "execution_count": 73,
   "metadata": {},
   "outputs": [],
   "source": [
    "# selected features using SVC linear model   \n",
    "rfe_SVC = RFE(SVC(kernel='linear', random_state=0), n_feats)\n",
    "rfe_SVC = rfe_SVC.fit(X_train, y_train.values.ravel())\n",
    "\n",
    "sel_feats = X_train.columns[rfe_SVC.support_]"
   ]
  },
  {
   "cell_type": "code",
   "execution_count": 74,
   "metadata": {},
   "outputs": [],
   "source": [
    "# reduced training and test sets\n",
    "X_train_red = X_train[sel_feats] \n",
    "X_test_red = X_test[sel_feats] "
   ]
  },
  {
   "cell_type": "code",
   "execution_count": 75,
   "metadata": {},
   "outputs": [
    {
     "name": "stdout",
     "output_type": "stream",
     "text": [
      "Reduced train data shape: (276, 90)\n",
      "Reduced test data shape: (220, 90)\n"
     ]
    }
   ],
   "source": [
    "print('Reduced train data shape: ' + str(X_train_red.shape))\n",
    "print('Reduced test data shape: ' + str(X_test_red.shape))"
   ]
  },
  {
   "cell_type": "code",
   "execution_count": 76,
   "metadata": {},
   "outputs": [],
   "source": [
    "# Save train and test sets with selected features\n",
    "X_train_red.to_csv('train_set_reduced.csv', index = False)\n",
    "X_test_red.to_csv('test_set_reduced.csv', index = False)"
   ]
  },
  {
   "cell_type": "markdown",
   "metadata": {},
   "source": [
    "## Compare model performance with all the features vs selected features"
   ]
  },
  {
   "cell_type": "code",
   "execution_count": 77,
   "metadata": {},
   "outputs": [
    {
     "name": "stdout",
     "output_type": "stream",
     "text": [
      "Linear SVC accuracy all features: 0.69\n",
      "Linear SVC accuracy with selected features: 0.96\n"
     ]
    }
   ],
   "source": [
    "SVC_clf = SVC(kernel='linear')\n",
    "SVC_clf.fit(X_train_red, y_train)\n",
    "SVC_clf_scores = cross_val_score(SVC_clf, X_train_red, y_train, cv=10, scoring='accuracy')\n",
    "\n",
    "SVC_clf_all = SVC(kernel='linear')\n",
    "SVC_clf_all.fit(X_train, y_train)\n",
    "SVC_clf_scores_all = cross_val_score(SVC_clf_all, X_train, y_train, cv=10, scoring='accuracy')\n",
    "\n",
    "print('Linear SVC accuracy all features: {:.2f}'.format(SVC_clf_scores_all.mean()))\n",
    "print('Linear SVC accuracy with selected features: {:.2f}'.format(SVC_clf_scores.mean()))"
   ]
  },
  {
   "cell_type": "markdown",
   "metadata": {},
   "source": [
    "## Selected features data exploration"
   ]
  },
  {
   "cell_type": "markdown",
   "metadata": {},
   "source": [
    "Study correlation between selected features and target variable."
   ]
  },
  {
   "cell_type": "code",
   "execution_count": 105,
   "metadata": {},
   "outputs": [],
   "source": [
    "corr = X_train_red.corrwith(y_train)"
   ]
  },
  {
   "cell_type": "code",
   "execution_count": 106,
   "metadata": {},
   "outputs": [
    {
     "data": {
      "image/png": "[encoded data removed]",
      "text/plain": [
       "<Figure size 1080x720 with 1 Axes>"
      ]
     },
     "metadata": {
      "needs_background": "light"
     },
     "output_type": "display_data"
    }
   ],
   "source": [
    "corr.plot.bar(figsize = (15, 10), title = \"Correlation with Target\", fontsize = 10,grid = True)\n",
    "plt.savefig('feature_corr.png',dpi = 400, bbox_inches='tight')\n",
    "plt.show()"
   ]
  },
  {
   "cell_type": "markdown",
   "metadata": {},
   "source": [
    "## Get the 10 featueres with the largest correlation to the target variable."
   ]
  },
  {
   "cell_type": "code",
   "execution_count": 111,
   "metadata": {},
   "outputs": [
    {
     "data": {
      "text/plain": [
       "aggregated_scores_25         0.484589\n",
       "sequential_performance_13    0.434606\n",
       "sequential_performance_15    0.434459\n",
       "sequential_performance_14    0.419069\n",
       "sequential_performance_11    0.417614\n",
       "aggregated_scores_2          0.414070\n",
       "sequential_performance_19    0.404667\n",
       "correct_binary_1             0.364190\n",
       "sequential_performance_3     0.361284\n",
       "sequential_performance_16    0.353589\n",
       "dtype: float64"
      ]
     },
     "execution_count": 111,
     "metadata": {},
     "output_type": "execute_result"
    }
   ],
   "source": [
    "corr_abs=abs(corr)\n",
    "corr_abs.nlargest(10)"
   ]
  },
  {
   "cell_type": "code",
   "execution_count": 119,
   "metadata": {},
   "outputs": [
    {
     "data": {
      "image/png": "[encoded data removed]",
      "text/plain": [
       "<Figure size 432x288 with 1 Axes>"
      ]
     },
     "metadata": {
      "needs_background": "light"
     },
     "output_type": "display_data"
    }
   ],
   "source": [
    "feats = sns.barplot(corr_abs.nlargest(10).index, corr_abs.nlargest(10).values)\n",
    "for item in feats.get_xticklabels():\n",
    "    item.set_rotation(90)\n",
    "plt.ylabel('abs(corr)')\n",
    "plt.savefig('10feats.png',dpi = 400, bbox_inches='tight')\n",
    "plt.show()"
   ]
  },
  {
   "cell_type": "markdown",
   "metadata": {},
   "source": [
    "'aggregated_scores' 25 and 2 and 'sequential_performance' 13, 15, 14, 15, 11 and 19 are the variables with the largest correlation to the target variable, this is, the ones that best predict the target variable. \n",
    "\n",
    "More insight could be given if we had more details about these variables."
   ]
  },
  {
   "cell_type": "markdown",
   "metadata": {},
   "source": [
    "# 4. Final model: SVC(Linear) with selected features\n",
    "## Labels prediction with SVC model with selected features"
   ]
  },
  {
   "cell_type": "code",
   "execution_count": 83,
   "metadata": {},
   "outputs": [
    {
     "name": "stdout",
     "output_type": "stream",
     "text": [
      "Linear SVC accuracy with selected features: 0.96\n"
     ]
    }
   ],
   "source": [
    "SVC_clf = SVC(kernel='linear')\n",
    "SVC_clf.fit(X_train_red, y_train)\n",
    "y_pred = SVC_clf.predict(X_test_red)\n",
    "SVC_clf_scores = cross_val_score(SVC_clf, X_train_red, y_train, cv=10, scoring='accuracy')\n",
    "\n",
    "print('Linear SVC accuracy with selected features: {:.2f}'.format(SVC_clf_scores.mean()))"
   ]
  },
  {
   "cell_type": "code",
   "execution_count": 84,
   "metadata": {},
   "outputs": [],
   "source": [
    "label_predictions = np.column_stack((patientId, y_pred))"
   ]
  },
  {
   "cell_type": "code",
   "execution_count": 85,
   "metadata": {},
   "outputs": [],
   "source": [
    "label_predictions = pd.DataFrame(label_predictions, columns = ['id', 'prediction'])"
   ]
  },
  {
   "cell_type": "code",
   "execution_count": 86,
   "metadata": {},
   "outputs": [],
   "source": [
    "label_predictions.to_csv('test_set_label_predictions.csv', index = False)"
   ]
  },
  {
   "cell_type": "code",
   "execution_count": null,
   "metadata": {},
   "outputs": [],
   "source": [
    "# visualise predicted labels\n",
    "sns.countplot(y_pred)\n",
    "plt.title('Training labels')\n",
    "plt.xlabel('Label value')\n",
    "plt.ylabel('Count')\n",
    "plt.savefig('Predicted labels.png',dpi = 400, bbox_inches='tight')\n",
    "plt.show()"
   ]
  }
 ],
 "metadata": {
  "kernelspec": {
   "display_name": "Python 3",
   "language": "python",
   "name": "python3"
  },
  "language_info": {
   "codemirror_mode": {
    "name": "ipython",
    "version": 3
   },
   "file_extension": ".py",
   "mimetype": "text/x-python",
   "name": "python",
   "nbconvert_exporter": "python",
   "pygments_lexer": "ipython3",
   "version": "3.7.4"
  }
 },
 "nbformat": 4,
 "nbformat_minor": 2
}
