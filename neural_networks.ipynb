{
  "nbformat": 4,
  "nbformat_minor": 0,
  "metadata": {
    "colab": {
      "name": "Copia de neural_networks.ipynb",
      "provenance": [],
      "collapsed_sections": []
    },
    "kernelspec": {
      "name": "python3",
      "display_name": "Python 3"
    }
  },
  "cells": [
    {
      "cell_type": "markdown",
      "metadata": {
        "id": "B9_SeEZZBhHM"
      },
      "source": [
        "# Neural Networks\n",
        "## Fashion MNIST dataset classification\n",
        "\n",
        "\n",
        "\n",
        "\n"
      ]
    },
    {
      "cell_type": "code",
      "metadata": {
        "id": "3S4O8SAuCPIu"
      },
      "source": [
        "import keras\n",
        "from keras.models import Sequential # standard Feedworward (sequential) Neural Network"
      ],
      "execution_count": 30,
      "outputs": []
    },
    {
      "cell_type": "code",
      "metadata": {
        "id": "XyUXN_mPDQRo"
      },
      "source": [
        "from keras.datasets import fashion_mnist\n",
        "\n",
        "(x_train, y_train), (x_test, y_test) = fashion_mnist.load_data()"
      ],
      "execution_count": 31,
      "outputs": []
    },
    {
      "cell_type": "markdown",
      "metadata": {
        "id": "znqaiJ4o_IHl"
      },
      "source": [
        "Visualise the data"
      ]
    },
    {
      "cell_type": "code",
      "metadata": {
        "id": "242s0A2xDcM7",
        "colab": {
          "base_uri": "https://localhost:8080/",
          "height": 316
        },
        "outputId": "4ffb0c63-2dd2-4b5b-c9b3-ad24ea09c25c"
      },
      "source": [
        "print(x_train.shape)\n",
        "print(x_test.shape)\n",
        "\n",
        "import matplotlib.pyplot as plt\n",
        "import numpy as np\n",
        "\n",
        "plt.imshow(x_train[500,:,:])"
      ],
      "execution_count": 32,
      "outputs": [
        {
          "output_type": "stream",
          "text": [
            "(60000, 28, 28)\n",
            "(10000, 28, 28)\n"
          ],
          "name": "stdout"
        },
        {
          "output_type": "execute_result",
          "data": {
            "text/plain": [
              "<matplotlib.image.AxesImage at 0x7f1bba8bda20>"
            ]
          },
          "metadata": {
            "tags": []
          },
          "execution_count": 32
        },
        {
          "output_type": "display_data",
          "data": {
            "image/png": "[encoded data removed]",
            "text/plain": [
              "<Figure size 432x288 with 1 Axes>"
            ]
          },
          "metadata": {
            "tags": [],
            "needs_background": "light"
          }
        }
      ]
    },
    {
      "cell_type": "markdown",
      "metadata": {
        "id": "7RY7CIU7Dj_Z"
      },
      "source": [
        "Reshape into 2D array"
      ]
    },
    {
      "cell_type": "code",
      "metadata": {
        "id": "oE1ZAUkxDgiW"
      },
      "source": [
        "x_train = x_train.reshape(60000,28**2)\n",
        "x_test = x_test.reshape(10000,28**2)"
      ],
      "execution_count": 33,
      "outputs": []
    },
    {
      "cell_type": "markdown",
      "metadata": {
        "id": "9sZ7JFAW_MCe"
      },
      "source": [
        "Build NN model"
      ]
    },
    {
      "cell_type": "code",
      "metadata": {
        "id": "KzUy2kqLFzgo"
      },
      "source": [
        "from keras.models import Sequential\n",
        "model = Sequential()\n",
        "\n",
        "from keras.layers import Dense\n",
        "model.add(Dense(units=100, activation = 'relu', input_dim=28**2))\n",
        "model.add(Dense(units=100,activation = 'relu'))\n",
        "model.add(Dense(units=100,activation = 'relu'))\n",
        "model.add(Dense(units=100,activation = 'relu'))\n",
        "model.add(Dense(units=10, activation='softmax'))\n"
      ],
      "execution_count": 34,
      "outputs": []
    },
    {
      "cell_type": "markdown",
      "metadata": {
        "id": "gZ_U9yBtHtUZ"
      },
      "source": [
        "Convert output from interger to array of dim=10"
      ]
    },
    {
      "cell_type": "code",
      "metadata": {
        "id": "dn6BPk7wI2BB",
        "colab": {
          "base_uri": "https://localhost:8080/"
        },
        "outputId": "8ba0ca92-24bd-4e85-fa87-6e73375f55a1"
      },
      "source": [
        "print(y_train[0])\n",
        "\n",
        "y_train = keras.utils.to_categorical(y_train,num_classes=10) \n",
        "y_test = keras.utils.to_categorical(y_test,num_classes=10)\n",
        "\n",
        "print(y_train[0])"
      ],
      "execution_count": 35,
      "outputs": [
        {
          "output_type": "stream",
          "text": [
            "9\n",
            "[0. 0. 0. 0. 0. 0. 0. 0. 0. 1.]\n"
          ],
          "name": "stdout"
        }
      ]
    },
    {
      "cell_type": "markdown",
      "metadata": {
        "id": "pk2jwY1cKwh9"
      },
      "source": [
        "Select 'categorial cross-entropy' as loss function"
      ]
    },
    {
      "cell_type": "code",
      "metadata": {
        "id": "ZbCU7rAFK27Q"
      },
      "source": [
        "model.compile(loss='categorical_crossentropy',optimizer='adam',metrics=['accuracy'])"
      ],
      "execution_count": 36,
      "outputs": []
    },
    {
      "cell_type": "code",
      "metadata": {
        "id": "Nhj2LYM8LYYq",
        "colab": {
          "base_uri": "https://localhost:8080/"
        },
        "outputId": "63e542d9-dd1e-430e-8043-5f5236ff7fcf"
      },
      "source": [
        "model.fit(x_train,y_train, epochs=50, batch_size = 1000)"
      ],
      "execution_count": 37,
      "outputs": [
        {
          "output_type": "stream",
          "text": [
            "Epoch 1/50\n",
            "60/60 [==============================] - 1s 15ms/step - loss: 16.4059 - accuracy: 0.4428\n",
            "Epoch 2/50\n",
            "60/60 [==============================] - 1s 15ms/step - loss: 0.9012 - accuracy: 0.7501\n",
            "Epoch 3/50\n",
            "60/60 [==============================] - 1s 15ms/step - loss: 0.6923 - accuracy: 0.7840\n",
            "Epoch 4/50\n",
            "60/60 [==============================] - 1s 15ms/step - loss: 0.5993 - accuracy: 0.8017\n",
            "Epoch 5/50\n",
            "60/60 [==============================] - 1s 15ms/step - loss: 0.5520 - accuracy: 0.8150\n",
            "Epoch 6/50\n",
            "60/60 [==============================] - 1s 15ms/step - loss: 0.5026 - accuracy: 0.8266\n",
            "Epoch 7/50\n",
            "60/60 [==============================] - 1s 15ms/step - loss: 0.4724 - accuracy: 0.8363\n",
            "Epoch 8/50\n",
            "60/60 [==============================] - 1s 15ms/step - loss: 0.4438 - accuracy: 0.8422\n",
            "Epoch 9/50\n",
            "60/60 [==============================] - 1s 15ms/step - loss: 0.4239 - accuracy: 0.8498\n",
            "Epoch 10/50\n",
            "60/60 [==============================] - 1s 15ms/step - loss: 0.4160 - accuracy: 0.8517\n",
            "Epoch 11/50\n",
            "60/60 [==============================] - 1s 15ms/step - loss: 0.3984 - accuracy: 0.8576\n",
            "Epoch 12/50\n",
            "60/60 [==============================] - 1s 15ms/step - loss: 0.3882 - accuracy: 0.8617\n",
            "Epoch 13/50\n",
            "60/60 [==============================] - 1s 15ms/step - loss: 0.3708 - accuracy: 0.8668\n",
            "Epoch 14/50\n",
            "60/60 [==============================] - 1s 15ms/step - loss: 0.3705 - accuracy: 0.8667\n",
            "Epoch 15/50\n",
            "60/60 [==============================] - 1s 15ms/step - loss: 0.3441 - accuracy: 0.8767\n",
            "Epoch 16/50\n",
            "60/60 [==============================] - 1s 15ms/step - loss: 0.3449 - accuracy: 0.8755\n",
            "Epoch 17/50\n",
            "60/60 [==============================] - 1s 15ms/step - loss: 0.3274 - accuracy: 0.8805\n",
            "Epoch 18/50\n",
            "60/60 [==============================] - 1s 15ms/step - loss: 0.3288 - accuracy: 0.8802\n",
            "Epoch 19/50\n",
            "60/60 [==============================] - 1s 15ms/step - loss: 0.3187 - accuracy: 0.8833\n",
            "Epoch 20/50\n",
            "60/60 [==============================] - 1s 15ms/step - loss: 0.3110 - accuracy: 0.8857\n",
            "Epoch 21/50\n",
            "60/60 [==============================] - 1s 15ms/step - loss: 0.3059 - accuracy: 0.8877\n",
            "Epoch 22/50\n",
            "60/60 [==============================] - 1s 15ms/step - loss: 0.2893 - accuracy: 0.8946\n",
            "Epoch 23/50\n",
            "60/60 [==============================] - 1s 15ms/step - loss: 0.2991 - accuracy: 0.8921\n",
            "Epoch 24/50\n",
            "60/60 [==============================] - 1s 15ms/step - loss: 0.2911 - accuracy: 0.8941\n",
            "Epoch 25/50\n",
            "60/60 [==============================] - 1s 15ms/step - loss: 0.2732 - accuracy: 0.8991\n",
            "Epoch 26/50\n",
            "60/60 [==============================] - 1s 15ms/step - loss: 0.2727 - accuracy: 0.9000\n",
            "Epoch 27/50\n",
            "60/60 [==============================] - 1s 15ms/step - loss: 0.2717 - accuracy: 0.9001\n",
            "Epoch 28/50\n",
            "60/60 [==============================] - 1s 15ms/step - loss: 0.2585 - accuracy: 0.9036\n",
            "Epoch 29/50\n",
            "60/60 [==============================] - 1s 15ms/step - loss: 0.2624 - accuracy: 0.9018\n",
            "Epoch 30/50\n",
            "60/60 [==============================] - 1s 15ms/step - loss: 0.2544 - accuracy: 0.9067\n",
            "Epoch 31/50\n",
            "60/60 [==============================] - 1s 16ms/step - loss: 0.2481 - accuracy: 0.9084\n",
            "Epoch 32/50\n",
            "60/60 [==============================] - 1s 15ms/step - loss: 0.2469 - accuracy: 0.9081\n",
            "Epoch 33/50\n",
            "60/60 [==============================] - 1s 15ms/step - loss: 0.2521 - accuracy: 0.9062\n",
            "Epoch 34/50\n",
            "60/60 [==============================] - 1s 15ms/step - loss: 0.2390 - accuracy: 0.9097\n",
            "Epoch 35/50\n",
            "60/60 [==============================] - 1s 15ms/step - loss: 0.2404 - accuracy: 0.9103\n",
            "Epoch 36/50\n",
            "60/60 [==============================] - 1s 15ms/step - loss: 0.2397 - accuracy: 0.9110\n",
            "Epoch 37/50\n",
            "60/60 [==============================] - 1s 15ms/step - loss: 0.2353 - accuracy: 0.9124\n",
            "Epoch 38/50\n",
            "60/60 [==============================] - 1s 15ms/step - loss: 0.2275 - accuracy: 0.9148\n",
            "Epoch 39/50\n",
            "60/60 [==============================] - 1s 15ms/step - loss: 0.2309 - accuracy: 0.9128\n",
            "Epoch 40/50\n",
            "60/60 [==============================] - 1s 15ms/step - loss: 0.2297 - accuracy: 0.9135\n",
            "Epoch 41/50\n",
            "60/60 [==============================] - 1s 15ms/step - loss: 0.2184 - accuracy: 0.9191\n",
            "Epoch 42/50\n",
            "60/60 [==============================] - 1s 15ms/step - loss: 0.2234 - accuracy: 0.9162\n",
            "Epoch 43/50\n",
            "60/60 [==============================] - 1s 15ms/step - loss: 0.2259 - accuracy: 0.9157\n",
            "Epoch 44/50\n",
            "60/60 [==============================] - 1s 15ms/step - loss: 0.2172 - accuracy: 0.9183\n",
            "Epoch 45/50\n",
            "60/60 [==============================] - 1s 15ms/step - loss: 0.2050 - accuracy: 0.9233\n",
            "Epoch 46/50\n",
            "60/60 [==============================] - 1s 15ms/step - loss: 0.2055 - accuracy: 0.9239\n",
            "Epoch 47/50\n",
            "60/60 [==============================] - 1s 15ms/step - loss: 0.1991 - accuracy: 0.9262\n",
            "Epoch 48/50\n",
            "60/60 [==============================] - 1s 15ms/step - loss: 0.2010 - accuracy: 0.9252\n",
            "Epoch 49/50\n",
            "60/60 [==============================] - 1s 15ms/step - loss: 0.1921 - accuracy: 0.9285\n",
            "Epoch 50/50\n",
            "60/60 [==============================] - 1s 15ms/step - loss: 0.1900 - accuracy: 0.9297\n"
          ],
          "name": "stdout"
        },
        {
          "output_type": "execute_result",
          "data": {
            "text/plain": [
              "<tensorflow.python.keras.callbacks.History at 0x7f1bba832198>"
            ]
          },
          "metadata": {
            "tags": []
          },
          "execution_count": 37
        }
      ]
    },
    {
      "cell_type": "markdown",
      "metadata": {
        "id": "fqxpLr4BBNc6"
      },
      "source": [
        "93% accuracy in training set"
      ]
    },
    {
      "cell_type": "code",
      "metadata": {
        "id": "-qD-1Xfreo-M",
        "colab": {
          "base_uri": "https://localhost:8080/"
        },
        "outputId": "663743d8-05ed-4684-9cf2-d974a7da9719"
      },
      "source": [
        "model.summary()"
      ],
      "execution_count": 38,
      "outputs": [
        {
          "output_type": "stream",
          "text": [
            "Model: \"sequential_6\"\n",
            "_________________________________________________________________\n",
            "Layer (type)                 Output Shape              Param #   \n",
            "=================================================================\n",
            "dense_26 (Dense)             (None, 100)               78500     \n",
            "_________________________________________________________________\n",
            "dense_27 (Dense)             (None, 100)               10100     \n",
            "_________________________________________________________________\n",
            "dense_28 (Dense)             (None, 100)               10100     \n",
            "_________________________________________________________________\n",
            "dense_29 (Dense)             (None, 100)               10100     \n",
            "_________________________________________________________________\n",
            "dense_30 (Dense)             (None, 10)                1010      \n",
            "=================================================================\n",
            "Total params: 109,810\n",
            "Trainable params: 109,810\n",
            "Non-trainable params: 0\n",
            "_________________________________________________________________\n"
          ],
          "name": "stdout"
        }
      ]
    },
    {
      "cell_type": "markdown",
      "metadata": {
        "id": "QcsDBkfue1cU"
      },
      "source": [
        "Evaluate the model's performance"
      ]
    },
    {
      "cell_type": "code",
      "metadata": {
        "id": "OM7hSRSaN2KX",
        "colab": {
          "base_uri": "https://localhost:8080/"
        },
        "outputId": "ac20edf9-7295-41bc-b4f6-1cf4d41ed6ac"
      },
      "source": [
        "print(model.evaluate(x_test,y_test))\n",
        "y_pred = model.predict(x_test)"
      ],
      "execution_count": 39,
      "outputs": [
        {
          "output_type": "stream",
          "text": [
            "313/313 [==============================] - 0s 1ms/step - loss: 0.4772 - accuracy: 0.8691\n",
            "[0.4772312641143799, 0.8690999746322632]\n"
          ],
          "name": "stdout"
        }
      ]
    },
    {
      "cell_type": "markdown",
      "metadata": {
        "id": "hoUczOyfBZlr"
      },
      "source": [
        "87% accuracy in test set"
      ]
    },
    {
      "cell_type": "code",
      "metadata": {
        "id": "O2iAjNNFPczI",
        "colab": {
          "base_uri": "https://localhost:8080/",
          "height": 268
        },
        "outputId": "55acb252-c742-49db-ee26-a1368f33c589"
      },
      "source": [
        "# Visualise NN predictions\n",
        "\n",
        "N=5\n",
        "start_val = 403# pick an element for the code to plot the following 25 values\n",
        "fig, axes = plt.subplots(N,N)\n",
        "items = ['Top','Trousers','Jumper','Dress','Coat','Sandal','Shirt','Trainer',\n",
        "         'Bag','Ankle Boot']\n",
        "for row in range(N):\n",
        "  for col in range(N):\n",
        "    pred = np.argmax(y_pred[start_val+row+N*col,:])\n",
        "    axes[row,col].imshow(x_test[start_val+row+N*col,:].reshape((28,28)))\n",
        "    axes[row,col].set_title(str(items[pred]))\n",
        "    axes[row,col].set_xticks([])\n",
        "    axes[row,col].set_yticks([])\n",
        "    \n",
        "plt.subplots_adjust(hspace=1.5)"
      ],
      "execution_count": 40,
      "outputs": [
        {
          "output_type": "display_data",
          "data": {
            "image/png": "[encoded data removed]",
            "text/plain": [
              "<Figure size 432x288 with 25 Axes>"
            ]
          },
          "metadata": {
            "tags": []
          }
        }
      ]
    }
  ]
}